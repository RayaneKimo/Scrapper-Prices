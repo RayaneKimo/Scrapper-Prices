{
 "cells": [
  {
   "cell_type": "code",
   "execution_count": 1,
   "metadata": {
    "collapsed": true,
    "pycharm": {
     "name": "#%%\n"
    }
   },
   "outputs": [],
   "source": [
    "import math\n",
    "\n",
    "import selenium.common.exceptions\n",
    "from bs4 import BeautifulSoup\n",
    "from selenium import webdriver\n",
    "from webdriver_manager.chrome import ChromeDriverManager\n",
    "from timeit import default_timer as timer\n",
    "from datetime import datetime\n",
    "import numpy as np\n",
    "import pandas as pd\n",
    "\n",
    "\n",
    "def get_products_from_page(url, category, dr, products, waiting_time):\n",
    "    start_time = timer()\n",
    "\n",
    "    try:\n",
    "        #use chromedriver  instead of Request to get our HTML page content\n",
    "        dr.set_page_load_timeout(waiting_time)\n",
    "        dr.get(url)\n",
    "    except selenium.common.exceptions.TimeoutException:\n",
    "        return -1\n",
    "\n",
    "    soup = BeautifulSoup(dr.page_source, 'html.parser')\n",
    "\n",
    "    # This is the important part that changes from one website to another (same structure, just pull out the data from different tags)\n",
    "    all_products = [article for article in soup.find_all(\n",
    "        'article', {'class': 'item'})]\n",
    "\n",
    "    for prod in all_products:\n",
    "        name = prod.find_all('h2', {'class': 'item__title'})[0].find('a')['title']\n",
    "        link = 'https://www.rueducommerce.fr' + prod.find_all('h2', {'class': 'item__title'})[0].find('a')['href']\n",
    "\n",
    "        if(len(prod.find_all('span', {'class': 'item__price--old-box'})) > 0 ) :\n",
    "            price_promo = prod.find_all('span', {'class': 'item__price--new-box'})\n",
    "            price_old = prod.find_all('span', {'class': 'item__price--old-box'})\n",
    "        else :\n",
    "            price_promo = None\n",
    "            price_old = prod.find_all('span', {'class': 'item__price--new-box'})\n",
    "\n",
    "        if (price_promo and price_old ):\n",
    "            price_promo = price_promo[0].find('span').string\n",
    "            price_old = price_old[0].find('span').string\n",
    "\n",
    "        else:\n",
    "            price_old = price_old[0].find('span').string\n",
    "\n",
    "        description = prod.find_all('p', {'class': 'item__caracs'})[0].find('a').string\n",
    "\n",
    "        # Here ends the important part\n",
    "\n",
    "        row = {\n",
    "            'website': 'www.rueducommerce.fr',\n",
    "            'Brand': category,\n",
    "            'time': datetime.now(),\n",
    "            'name': name,\n",
    "            'description': description,\n",
    "            'price_promo': price_promo,\n",
    "            'price_old' :price_old,\n",
    "            'link': link,\n",
    "        }\n",
    "\n",
    "        products.append(row)\n",
    "\n",
    "    end_time = timer()\n",
    "    print('Treatment time: ' + str(np.round(end_time - start_time, 2)) + 's. ', end='')\n",
    "\n",
    "    return products\n",
    "\n",
    "\n",
    "def get_all_products(waiting_time, nb_retries):\n",
    "    option = webdriver.ChromeOptions()\n",
    "    option.add_argument('headless')\n",
    "    option.add_experimental_option(\"excludeSwitches\", [\"enable-automation\"])\n",
    "    option.add_experimental_option('excludeSwitches', ['enable-logging'])\n",
    "    option.add_experimental_option('useAutomationExtension', False)\n",
    "\n",
    "    dr = webdriver.Chrome(\"C:/Users/asus/Desktop/chromedriver.exe\")\n",
    "\n",
    "    products = []\n",
    "\n",
    "\n",
    "    categories = []\n",
    "    urls = []\n",
    "\n",
    "    with open('urls.txt', 'r') as f:\n",
    "        for line in f:\n",
    "            strip_lines = line.strip()\n",
    "            cat, url = strip_lines.split(', ')\n",
    "            categories.append(cat)\n",
    "            urls.append(url)\n",
    "\n",
    "    retries = 0\n",
    "\n",
    "    for cat, url in zip(categories, urls):\n",
    "        print('Started fetching ' + url + '...', end='\\n\\n')\n",
    "\n",
    "        while get_products_from_page(url, cat, dr, products, waiting_time) == -1 and retries < nb_retries:\n",
    "            print('ERROR: Could not connect to web page within time limit (' + str(waiting_time) + ' s).')\n",
    "            print('Restarted fetching ' + url + '...', end=' ')\n",
    "            retries += 1\n",
    "\n",
    "        else:\n",
    "            if retries >= nb_retries:\n",
    "                print(\"Permitted number of retries reached. Fetched \" + str(len(products)) + \" products.\")\n",
    "            else:\n",
    "                print(\"Finished. Fetched all requested products.\")\n",
    "\n",
    "    dr.quit()\n",
    "    return products\n",
    "\n"
   ]
  },
  {
   "cell_type": "code",
   "execution_count": 2,
   "outputs": [
    {
     "name": "stderr",
     "output_type": "stream",
     "text": [
      "<ipython-input-1-2b2c04d259bb>:77: DeprecationWarning: executable_path has been deprecated, please pass in a Service object\n",
      "  dr = webdriver.Chrome(\"C:/Users/asus/Desktop/chromedriver.exe\")\n"
     ]
    },
    {
     "name": "stdout",
     "output_type": "stream",
     "text": [
      "Started fetching https://www.rueducommerce.fr/rayon/ordinateurs-64/ordinateur-portable-657/msi...\n",
      "\n",
      "Treatment time: 6.35s. Finished. Fetched all requested products.\n",
      "Started fetching https://www.rueducommerce.fr/rayon/ordinateurs-64/ordinateur-portable-657/hp...\n",
      "\n",
      "Treatment time: 2.08s. Finished. Fetched all requested products.\n",
      "Started fetching https://www.rueducommerce.fr/rayon/ordinateurs-64/ordinateur-portable-657/asus...\n",
      "\n",
      "Treatment time: 1.46s. Finished. Fetched all requested products.\n",
      "180\n"
     ]
    }
   ],
   "source": [
    "waiting_time = 10\n",
    "nb_retries = 10\n",
    "\n",
    "products = get_all_products(waiting_time, nb_retries)\n",
    "\n",
    "print(len(products))\n"
   ],
   "metadata": {
    "collapsed": false,
    "pycharm": {
     "name": "#%%\n"
    }
   }
  },
  {
   "cell_type": "code",
   "execution_count": 263,
   "outputs": [],
   "source": [
    "df=pd.DataFrame(products)"
   ],
   "metadata": {
    "collapsed": false,
    "pycharm": {
     "name": "#%%\n"
    }
   }
  },
  {
   "cell_type": "code",
   "execution_count": 264,
   "outputs": [
    {
     "data": {
      "text/plain": "                  website Brand                       time  \\\n0    www.rueducommerce.fr   MSI 2022-06-02 18:43:30.281834   \n1    www.rueducommerce.fr   MSI 2022-06-02 18:43:30.281834   \n2    www.rueducommerce.fr   MSI 2022-06-02 18:43:30.281834   \n3    www.rueducommerce.fr   MSI 2022-06-02 18:43:30.281834   \n4    www.rueducommerce.fr   MSI 2022-06-02 18:43:30.297465   \n..                    ...   ...                        ...   \n175  www.rueducommerce.fr  ASUS 2022-06-02 18:43:33.962830   \n176  www.rueducommerce.fr  ASUS 2022-06-02 18:43:33.962830   \n177  www.rueducommerce.fr  ASUS 2022-06-02 18:43:33.962830   \n178  www.rueducommerce.fr  ASUS 2022-06-02 18:43:33.962830   \n179  www.rueducommerce.fr  ASUS 2022-06-02 18:43:33.978451   \n\n                                                  name  \\\n0                       Msi - Creator Z16 A11UET-276FR   \n1                         Msi - Raider GE66 12UH-222FR   \n2                        Msi - Raider GE66 12UGS-088FR   \n3                        Msi - Raider GE66 12UHS-219FR   \n4                        Msi - Raider GE76 12UHS-229FR   \n..                                                 ...   \n175  Asus - Vivobook R515EA - Argent + Sacoche + So...   \n176  Asus - ZenBook S13 - UX392FN-AB009T - Bleu Galaxy   \n177  Asus - Vivobook R415EA-EK1154W - Argent Transp...   \n178         Asus - VivoBook 15\" S533UA-BQ020T - Argent   \n179                       Asus - W202NA-GJ0026R - Bleu   \n\n                                           description price_promo price_old  \\\n0    16' Tactile 120 Hz QHD+ - Nvidia RTX 3060 MAX-...        None  2 399,00   \n1    15.6\" UHD 120Hz - RTX 3080 GDDR6 8Go - intel C...        None  3 499,99   \n2    15.6\" FHD 360Hz - RTX 3070 Ti GDDR6 8Go - inte...    3 499,95  3 600,98   \n3    15.6\" UHD 120Hz - RTX 3080 Ti GDDR6 16Go - int...        None  3 999,99   \n4    17.3\" UHD 120Hz - RTX 3080 Ti GDDR6 16Go - int...        None  5 099,99   \n..                                                 ...         ...       ...   \n175  15\" FHD - Intel Core i5-1135G7 - RAM 8 Go -  S...      649,99    679,99   \n176  13,9'' Full HD - Intel Core i7-8565U - SSD 1 T...        None  1 769,99   \n177  14\" FHD 220 Nits - Intel Core i3-1115G4 - RAM ...      569,99    599,99   \n178  15\" FHD - AMD Ryzen 7 5700U - RAM 8 Go - SSD 5...        None    749,99   \n179  11,6'' HD - Intel Celeron N3350 - eMMC 64 Go -...        None    328,33   \n\n                                                  link  \n0    https://www.rueducommerce.fr/p-creator-z16-a11...  \n1    https://www.rueducommerce.fr/p-raider-ge66-12u...  \n2    https://www.rueducommerce.fr/p-raider-ge66-12u...  \n3    https://www.rueducommerce.fr/p-raider-ge66-12u...  \n4    https://www.rueducommerce.fr/p-raider-ge76-12u...  \n..                                                 ...  \n175  https://www.rueducommerce.fr/p-vivobook-r515ea...  \n176  https://www.rueducommerce.fr/produit/asus-zenb...  \n177  https://www.rueducommerce.fr/p-vivobook-r415ea...  \n178  https://www.rueducommerce.fr/p-vivobook-15-s53...  \n179  https://www.rueducommerce.fr/produit/asus-w202...  \n\n[180 rows x 8 columns]",
      "text/html": "<div>\n<style scoped>\n    .dataframe tbody tr th:only-of-type {\n        vertical-align: middle;\n    }\n\n    .dataframe tbody tr th {\n        vertical-align: top;\n    }\n\n    .dataframe thead th {\n        text-align: right;\n    }\n</style>\n<table border=\"1\" class=\"dataframe\">\n  <thead>\n    <tr style=\"text-align: right;\">\n      <th></th>\n      <th>website</th>\n      <th>Brand</th>\n      <th>time</th>\n      <th>name</th>\n      <th>description</th>\n      <th>price_promo</th>\n      <th>price_old</th>\n      <th>link</th>\n    </tr>\n  </thead>\n  <tbody>\n    <tr>\n      <th>0</th>\n      <td>www.rueducommerce.fr</td>\n      <td>MSI</td>\n      <td>2022-06-02 18:43:30.281834</td>\n      <td>Msi - Creator Z16 A11UET-276FR</td>\n      <td>16' Tactile 120 Hz QHD+ - Nvidia RTX 3060 MAX-...</td>\n      <td>None</td>\n      <td>2 399,00</td>\n      <td>https://www.rueducommerce.fr/p-creator-z16-a11...</td>\n    </tr>\n    <tr>\n      <th>1</th>\n      <td>www.rueducommerce.fr</td>\n      <td>MSI</td>\n      <td>2022-06-02 18:43:30.281834</td>\n      <td>Msi - Raider GE66 12UH-222FR</td>\n      <td>15.6\" UHD 120Hz - RTX 3080 GDDR6 8Go - intel C...</td>\n      <td>None</td>\n      <td>3 499,99</td>\n      <td>https://www.rueducommerce.fr/p-raider-ge66-12u...</td>\n    </tr>\n    <tr>\n      <th>2</th>\n      <td>www.rueducommerce.fr</td>\n      <td>MSI</td>\n      <td>2022-06-02 18:43:30.281834</td>\n      <td>Msi - Raider GE66 12UGS-088FR</td>\n      <td>15.6\" FHD 360Hz - RTX 3070 Ti GDDR6 8Go - inte...</td>\n      <td>3 499,95</td>\n      <td>3 600,98</td>\n      <td>https://www.rueducommerce.fr/p-raider-ge66-12u...</td>\n    </tr>\n    <tr>\n      <th>3</th>\n      <td>www.rueducommerce.fr</td>\n      <td>MSI</td>\n      <td>2022-06-02 18:43:30.281834</td>\n      <td>Msi - Raider GE66 12UHS-219FR</td>\n      <td>15.6\" UHD 120Hz - RTX 3080 Ti GDDR6 16Go - int...</td>\n      <td>None</td>\n      <td>3 999,99</td>\n      <td>https://www.rueducommerce.fr/p-raider-ge66-12u...</td>\n    </tr>\n    <tr>\n      <th>4</th>\n      <td>www.rueducommerce.fr</td>\n      <td>MSI</td>\n      <td>2022-06-02 18:43:30.297465</td>\n      <td>Msi - Raider GE76 12UHS-229FR</td>\n      <td>17.3\" UHD 120Hz - RTX 3080 Ti GDDR6 16Go - int...</td>\n      <td>None</td>\n      <td>5 099,99</td>\n      <td>https://www.rueducommerce.fr/p-raider-ge76-12u...</td>\n    </tr>\n    <tr>\n      <th>...</th>\n      <td>...</td>\n      <td>...</td>\n      <td>...</td>\n      <td>...</td>\n      <td>...</td>\n      <td>...</td>\n      <td>...</td>\n      <td>...</td>\n    </tr>\n    <tr>\n      <th>175</th>\n      <td>www.rueducommerce.fr</td>\n      <td>ASUS</td>\n      <td>2022-06-02 18:43:33.962830</td>\n      <td>Asus - Vivobook R515EA - Argent + Sacoche + So...</td>\n      <td>15\" FHD - Intel Core i5-1135G7 - RAM 8 Go -  S...</td>\n      <td>649,99</td>\n      <td>679,99</td>\n      <td>https://www.rueducommerce.fr/p-vivobook-r515ea...</td>\n    </tr>\n    <tr>\n      <th>176</th>\n      <td>www.rueducommerce.fr</td>\n      <td>ASUS</td>\n      <td>2022-06-02 18:43:33.962830</td>\n      <td>Asus - ZenBook S13 - UX392FN-AB009T - Bleu Galaxy</td>\n      <td>13,9'' Full HD - Intel Core i7-8565U - SSD 1 T...</td>\n      <td>None</td>\n      <td>1 769,99</td>\n      <td>https://www.rueducommerce.fr/produit/asus-zenb...</td>\n    </tr>\n    <tr>\n      <th>177</th>\n      <td>www.rueducommerce.fr</td>\n      <td>ASUS</td>\n      <td>2022-06-02 18:43:33.962830</td>\n      <td>Asus - Vivobook R415EA-EK1154W - Argent Transp...</td>\n      <td>14\" FHD 220 Nits - Intel Core i3-1115G4 - RAM ...</td>\n      <td>569,99</td>\n      <td>599,99</td>\n      <td>https://www.rueducommerce.fr/p-vivobook-r415ea...</td>\n    </tr>\n    <tr>\n      <th>178</th>\n      <td>www.rueducommerce.fr</td>\n      <td>ASUS</td>\n      <td>2022-06-02 18:43:33.962830</td>\n      <td>Asus - VivoBook 15\" S533UA-BQ020T - Argent</td>\n      <td>15\" FHD - AMD Ryzen 7 5700U - RAM 8 Go - SSD 5...</td>\n      <td>None</td>\n      <td>749,99</td>\n      <td>https://www.rueducommerce.fr/p-vivobook-15-s53...</td>\n    </tr>\n    <tr>\n      <th>179</th>\n      <td>www.rueducommerce.fr</td>\n      <td>ASUS</td>\n      <td>2022-06-02 18:43:33.978451</td>\n      <td>Asus - W202NA-GJ0026R - Bleu</td>\n      <td>11,6'' HD - Intel Celeron N3350 - eMMC 64 Go -...</td>\n      <td>None</td>\n      <td>328,33</td>\n      <td>https://www.rueducommerce.fr/produit/asus-w202...</td>\n    </tr>\n  </tbody>\n</table>\n<p>180 rows × 8 columns</p>\n</div>"
     },
     "execution_count": 264,
     "metadata": {},
     "output_type": "execute_result"
    }
   ],
   "source": [
    "df"
   ],
   "metadata": {
    "collapsed": false,
    "pycharm": {
     "name": "#%%\n"
    }
   }
  },
  {
   "cell_type": "code",
   "execution_count": 47,
   "outputs": [],
   "source": [
    "# for ind, row in df.iterrows():\n",
    "#     df.at[ind,\"color\"] = row[\"name\"].rsplit(\"-\",1)[-1]\n",
    "#     df.at[ind,\"brand\"] = row[\"name\"].split(\"-\",1)[0]"
   ],
   "metadata": {
    "collapsed": false,
    "pycharm": {
     "name": "#%%\n"
    }
   }
  },
  {
   "cell_type": "markdown",
   "source": [
    "# Data Processing\n"
   ],
   "metadata": {
    "collapsed": false,
    "pycharm": {
     "name": "#%% md\n"
    }
   }
  },
  {
   "cell_type": "code",
   "execution_count": 48,
   "outputs": [],
   "source": [
    "# df['price_old'].apply(lambda x : float(\".\".join(x.split(\",\"))))\n",
    "for ind, row in df.iterrows():\n",
    "    prix1=row[\"price_old\"].split(\",\")\n",
    "    prix1[0]=\"\".join(prix1[0].split())\n",
    "    prix1=float(\".\".join(prix1))\n",
    "    df.at[ind,\"price_old\"] = prix1\n",
    "    if(row[\"price_promo\"]  ) :\n",
    "     prix2=row[\"price_promo\"].split(\",\")\n",
    "     prix2[0]=\"\".join(prix2[0].split())\n",
    "     prix2=float(\".\".join(prix2))\n",
    "     df.at[ind,\"price_promo\"] = prix2"
   ],
   "metadata": {
    "collapsed": false,
    "pycharm": {
     "name": "#%%\n"
    }
   }
  },
  {
   "cell_type": "code",
   "execution_count": 49,
   "outputs": [
    {
     "data": {
      "text/plain": "                  website Brand                       time  \\\n0    www.rueducommerce.fr   MSI 2022-06-02 18:43:30.281834   \n1    www.rueducommerce.fr   MSI 2022-06-02 18:43:30.281834   \n2    www.rueducommerce.fr   MSI 2022-06-02 18:43:30.281834   \n3    www.rueducommerce.fr   MSI 2022-06-02 18:43:30.281834   \n4    www.rueducommerce.fr   MSI 2022-06-02 18:43:30.297465   \n..                    ...   ...                        ...   \n175  www.rueducommerce.fr  ASUS 2022-06-02 18:43:33.962830   \n176  www.rueducommerce.fr  ASUS 2022-06-02 18:43:33.962830   \n177  www.rueducommerce.fr  ASUS 2022-06-02 18:43:33.962830   \n178  www.rueducommerce.fr  ASUS 2022-06-02 18:43:33.962830   \n179  www.rueducommerce.fr  ASUS 2022-06-02 18:43:33.978451   \n\n                                                  name  \\\n0                       Msi - Creator Z16 A11UET-276FR   \n1                         Msi - Raider GE66 12UH-222FR   \n2                        Msi - Raider GE66 12UGS-088FR   \n3                        Msi - Raider GE66 12UHS-219FR   \n4                        Msi - Raider GE76 12UHS-229FR   \n..                                                 ...   \n175  Asus - Vivobook R515EA - Argent + Sacoche + So...   \n176  Asus - ZenBook S13 - UX392FN-AB009T - Bleu Galaxy   \n177  Asus - Vivobook R415EA-EK1154W - Argent Transp...   \n178         Asus - VivoBook 15\" S533UA-BQ020T - Argent   \n179                       Asus - W202NA-GJ0026R - Bleu   \n\n                                           description price_promo price_old  \\\n0    16' Tactile 120 Hz QHD+ - Nvidia RTX 3060 MAX-...        None    2399.0   \n1    15.6\" UHD 120Hz - RTX 3080 GDDR6 8Go - intel C...        None   3499.99   \n2    15.6\" FHD 360Hz - RTX 3070 Ti GDDR6 8Go - inte...     3499.95   3600.98   \n3    15.6\" UHD 120Hz - RTX 3080 Ti GDDR6 16Go - int...        None   3999.99   \n4    17.3\" UHD 120Hz - RTX 3080 Ti GDDR6 16Go - int...        None   5099.99   \n..                                                 ...         ...       ...   \n175  15\" FHD - Intel Core i5-1135G7 - RAM 8 Go -  S...      649.99    679.99   \n176  13,9'' Full HD - Intel Core i7-8565U - SSD 1 T...        None   1769.99   \n177  14\" FHD 220 Nits - Intel Core i3-1115G4 - RAM ...      569.99    599.99   \n178  15\" FHD - AMD Ryzen 7 5700U - RAM 8 Go - SSD 5...        None    749.99   \n179  11,6'' HD - Intel Celeron N3350 - eMMC 64 Go -...        None    328.33   \n\n                                                  link  \n0    https://www.rueducommerce.fr/p-creator-z16-a11...  \n1    https://www.rueducommerce.fr/p-raider-ge66-12u...  \n2    https://www.rueducommerce.fr/p-raider-ge66-12u...  \n3    https://www.rueducommerce.fr/p-raider-ge66-12u...  \n4    https://www.rueducommerce.fr/p-raider-ge76-12u...  \n..                                                 ...  \n175  https://www.rueducommerce.fr/p-vivobook-r515ea...  \n176  https://www.rueducommerce.fr/produit/asus-zenb...  \n177  https://www.rueducommerce.fr/p-vivobook-r415ea...  \n178  https://www.rueducommerce.fr/p-vivobook-15-s53...  \n179  https://www.rueducommerce.fr/produit/asus-w202...  \n\n[180 rows x 8 columns]",
      "text/html": "<div>\n<style scoped>\n    .dataframe tbody tr th:only-of-type {\n        vertical-align: middle;\n    }\n\n    .dataframe tbody tr th {\n        vertical-align: top;\n    }\n\n    .dataframe thead th {\n        text-align: right;\n    }\n</style>\n<table border=\"1\" class=\"dataframe\">\n  <thead>\n    <tr style=\"text-align: right;\">\n      <th></th>\n      <th>website</th>\n      <th>Brand</th>\n      <th>time</th>\n      <th>name</th>\n      <th>description</th>\n      <th>price_promo</th>\n      <th>price_old</th>\n      <th>link</th>\n    </tr>\n  </thead>\n  <tbody>\n    <tr>\n      <th>0</th>\n      <td>www.rueducommerce.fr</td>\n      <td>MSI</td>\n      <td>2022-06-02 18:43:30.281834</td>\n      <td>Msi - Creator Z16 A11UET-276FR</td>\n      <td>16' Tactile 120 Hz QHD+ - Nvidia RTX 3060 MAX-...</td>\n      <td>None</td>\n      <td>2399.0</td>\n      <td>https://www.rueducommerce.fr/p-creator-z16-a11...</td>\n    </tr>\n    <tr>\n      <th>1</th>\n      <td>www.rueducommerce.fr</td>\n      <td>MSI</td>\n      <td>2022-06-02 18:43:30.281834</td>\n      <td>Msi - Raider GE66 12UH-222FR</td>\n      <td>15.6\" UHD 120Hz - RTX 3080 GDDR6 8Go - intel C...</td>\n      <td>None</td>\n      <td>3499.99</td>\n      <td>https://www.rueducommerce.fr/p-raider-ge66-12u...</td>\n    </tr>\n    <tr>\n      <th>2</th>\n      <td>www.rueducommerce.fr</td>\n      <td>MSI</td>\n      <td>2022-06-02 18:43:30.281834</td>\n      <td>Msi - Raider GE66 12UGS-088FR</td>\n      <td>15.6\" FHD 360Hz - RTX 3070 Ti GDDR6 8Go - inte...</td>\n      <td>3499.95</td>\n      <td>3600.98</td>\n      <td>https://www.rueducommerce.fr/p-raider-ge66-12u...</td>\n    </tr>\n    <tr>\n      <th>3</th>\n      <td>www.rueducommerce.fr</td>\n      <td>MSI</td>\n      <td>2022-06-02 18:43:30.281834</td>\n      <td>Msi - Raider GE66 12UHS-219FR</td>\n      <td>15.6\" UHD 120Hz - RTX 3080 Ti GDDR6 16Go - int...</td>\n      <td>None</td>\n      <td>3999.99</td>\n      <td>https://www.rueducommerce.fr/p-raider-ge66-12u...</td>\n    </tr>\n    <tr>\n      <th>4</th>\n      <td>www.rueducommerce.fr</td>\n      <td>MSI</td>\n      <td>2022-06-02 18:43:30.297465</td>\n      <td>Msi - Raider GE76 12UHS-229FR</td>\n      <td>17.3\" UHD 120Hz - RTX 3080 Ti GDDR6 16Go - int...</td>\n      <td>None</td>\n      <td>5099.99</td>\n      <td>https://www.rueducommerce.fr/p-raider-ge76-12u...</td>\n    </tr>\n    <tr>\n      <th>...</th>\n      <td>...</td>\n      <td>...</td>\n      <td>...</td>\n      <td>...</td>\n      <td>...</td>\n      <td>...</td>\n      <td>...</td>\n      <td>...</td>\n    </tr>\n    <tr>\n      <th>175</th>\n      <td>www.rueducommerce.fr</td>\n      <td>ASUS</td>\n      <td>2022-06-02 18:43:33.962830</td>\n      <td>Asus - Vivobook R515EA - Argent + Sacoche + So...</td>\n      <td>15\" FHD - Intel Core i5-1135G7 - RAM 8 Go -  S...</td>\n      <td>649.99</td>\n      <td>679.99</td>\n      <td>https://www.rueducommerce.fr/p-vivobook-r515ea...</td>\n    </tr>\n    <tr>\n      <th>176</th>\n      <td>www.rueducommerce.fr</td>\n      <td>ASUS</td>\n      <td>2022-06-02 18:43:33.962830</td>\n      <td>Asus - ZenBook S13 - UX392FN-AB009T - Bleu Galaxy</td>\n      <td>13,9'' Full HD - Intel Core i7-8565U - SSD 1 T...</td>\n      <td>None</td>\n      <td>1769.99</td>\n      <td>https://www.rueducommerce.fr/produit/asus-zenb...</td>\n    </tr>\n    <tr>\n      <th>177</th>\n      <td>www.rueducommerce.fr</td>\n      <td>ASUS</td>\n      <td>2022-06-02 18:43:33.962830</td>\n      <td>Asus - Vivobook R415EA-EK1154W - Argent Transp...</td>\n      <td>14\" FHD 220 Nits - Intel Core i3-1115G4 - RAM ...</td>\n      <td>569.99</td>\n      <td>599.99</td>\n      <td>https://www.rueducommerce.fr/p-vivobook-r415ea...</td>\n    </tr>\n    <tr>\n      <th>178</th>\n      <td>www.rueducommerce.fr</td>\n      <td>ASUS</td>\n      <td>2022-06-02 18:43:33.962830</td>\n      <td>Asus - VivoBook 15\" S533UA-BQ020T - Argent</td>\n      <td>15\" FHD - AMD Ryzen 7 5700U - RAM 8 Go - SSD 5...</td>\n      <td>None</td>\n      <td>749.99</td>\n      <td>https://www.rueducommerce.fr/p-vivobook-15-s53...</td>\n    </tr>\n    <tr>\n      <th>179</th>\n      <td>www.rueducommerce.fr</td>\n      <td>ASUS</td>\n      <td>2022-06-02 18:43:33.978451</td>\n      <td>Asus - W202NA-GJ0026R - Bleu</td>\n      <td>11,6'' HD - Intel Celeron N3350 - eMMC 64 Go -...</td>\n      <td>None</td>\n      <td>328.33</td>\n      <td>https://www.rueducommerce.fr/produit/asus-w202...</td>\n    </tr>\n  </tbody>\n</table>\n<p>180 rows × 8 columns</p>\n</div>"
     },
     "execution_count": 49,
     "metadata": {},
     "output_type": "execute_result"
    }
   ],
   "source": [
    "df"
   ],
   "metadata": {
    "collapsed": false,
    "pycharm": {
     "name": "#%%\n"
    }
   }
  },
  {
   "cell_type": "code",
   "execution_count": 50,
   "outputs": [],
   "source": [
    "for ind , row in df.iterrows():\n",
    "    if any(el in row.description  for el in ['Tactile','tactile'] ) :\n",
    "        df.at[ind, \"Tactile\"] = \"OUI\"\n",
    "    else :\n",
    "        df.at[ind, \"Tactile\"] = \"NON\"\n"
   ],
   "metadata": {
    "collapsed": false,
    "pycharm": {
     "name": "#%%\n"
    }
   }
  },
  {
   "cell_type": "code",
   "execution_count": 51,
   "outputs": [],
   "source": [
    "for ind , row in df.iterrows() :\n",
    "    for car in row[\"description\"].split(\"-\") :\n",
    "      if any(el in car for el in ['14\"','15.6\"',\"15.6\",\"15,6\",\"15,6'\",'15,6\"',\"13.3\",\"144 Hz\",'17,3\"','17.3\"','17\"',\"16,1\",'15\"','16\"','13\"',\"14'\",\"15.6'\",\"15'\",\"16'\",\"13'\",'OLED','4k','3K', 'FHD OLED',\"IPS\",'Tactile'] ):\n",
    "         df.at[ind,'Ecran'] = car\n",
    "      elif any(el in car for el in ['Intel Core','i5','i3','i7','I5','I7','I3','i9','I9','Ryzen','AMD Ryzen','PEN','Pentium','PENTIUM',\"Athlon\",\"Celeron\"] ):\n",
    "          df.at[ind,'Processeur'] = car\n",
    "      elif any(el in car for el in ['ssd','SSD','HDD','hdd','512','Nvme','PCIe','1To','256','128'] ):\n",
    "          df.at[ind,'Stockage'] = car\n",
    "      elif any(el in car for el in ['ram','Ram','RAM','DDR4','DDR3','mémoire'] ):\n",
    "          df.at[ind,'RAM'] = car\n",
    "      elif any(el in car for el in ['Nvidia','GeForce','Radeon','Intel Iris','AMD Radeon','RTX','GTX','Ti','Graphics'] ):\n",
    "          df.at[ind,'Carte Graphique'] = car\n",
    "      elif any(el in car for el in ['Windows','Linux','windows','Ubuntu'] ):\n",
    "          df.at[ind,'OS'] = car\n",
    "\n",
    "\n",
    "\n",
    "\n"
   ],
   "metadata": {
    "collapsed": false,
    "pycharm": {
     "name": "#%%\n"
    }
   }
  },
  {
   "cell_type": "code",
   "execution_count": 52,
   "outputs": [],
   "source": [
    "df= df.drop(columns=[\"website\",\"time\",\"link\"])"
   ],
   "metadata": {
    "collapsed": false,
    "pycharm": {
     "name": "#%%\n"
    }
   }
  },
  {
   "cell_type": "code",
   "execution_count": 53,
   "outputs": [],
   "source": [
    "df=df.astype(str)"
   ],
   "metadata": {
    "collapsed": false,
    "pycharm": {
     "name": "#%%\n"
    }
   }
  },
  {
   "cell_type": "code",
   "execution_count": 54,
   "outputs": [],
   "source": [
    "df.Ecran  = df.Ecran .apply(lambda x : x.replace(',', '.')) # virgule to point"
   ],
   "metadata": {
    "collapsed": false,
    "pycharm": {
     "name": "#%%\n"
    }
   }
  },
  {
   "cell_type": "code",
   "execution_count": 55,
   "outputs": [
    {
     "data": {
      "text/plain": "    Brand                                               name  \\\n0     MSI                     Msi - Creator Z16 A11UET-276FR   \n1     MSI                       Msi - Raider GE66 12UH-222FR   \n2     MSI                      Msi - Raider GE66 12UGS-088FR   \n3     MSI                      Msi - Raider GE66 12UHS-219FR   \n4     MSI                      Msi - Raider GE76 12UHS-229FR   \n..    ...                                                ...   \n175  ASUS  Asus - Vivobook R515EA - Argent + Sacoche + So...   \n176  ASUS  Asus - ZenBook S13 - UX392FN-AB009T - Bleu Galaxy   \n177  ASUS  Asus - Vivobook R415EA-EK1154W - Argent Transp...   \n178  ASUS         Asus - VivoBook 15\" S533UA-BQ020T - Argent   \n179  ASUS                       Asus - W202NA-GJ0026R - Bleu   \n\n                                           description price_promo price_old  \\\n0    16' Tactile 120 Hz QHD+ - Nvidia RTX 3060 MAX-...        None    2399.0   \n1    15.6\" UHD 120Hz - RTX 3080 GDDR6 8Go - intel C...        None   3499.99   \n2    15.6\" FHD 360Hz - RTX 3070 Ti GDDR6 8Go - inte...     3499.95   3600.98   \n3    15.6\" UHD 120Hz - RTX 3080 Ti GDDR6 16Go - int...        None   3999.99   \n4    17.3\" UHD 120Hz - RTX 3080 Ti GDDR6 16Go - int...        None   5099.99   \n..                                                 ...         ...       ...   \n175  15\" FHD - Intel Core i5-1135G7 - RAM 8 Go -  S...      649.99    679.99   \n176  13,9'' Full HD - Intel Core i7-8565U - SSD 1 T...        None   1769.99   \n177  14\" FHD 220 Nits - Intel Core i3-1115G4 - RAM ...      569.99    599.99   \n178  15\" FHD - AMD Ryzen 7 5700U - RAM 8 Go - SSD 5...        None    749.99   \n179  11,6'' HD - Intel Celeron N3350 - eMMC 64 Go -...        None    328.33   \n\n    Tactile                     Ecran              Carte Graphique  \\\n0       OUI  16' Tactile 120 Hz QHD+           Nvidia RTX 3060 MAX   \n1       NON          15.6\" UHD 120Hz           RTX 3080 GDDR6 8Go    \n2       NON          15.6\" FHD 360Hz        RTX 3070 Ti GDDR6 8Go    \n3       NON          15.6\" UHD 120Hz       RTX 3080 Ti GDDR6 16Go    \n4       NON          17.3\" UHD 120Hz       RTX 3080 Ti GDDR6 16Go    \n..      ...                       ...                          ...   \n175     NON                  15\" FHD       Intel Iris Xe Graphics    \n176     NON                       nan   NVIDIA GeForce MX150 2 Go    \n177     NON         14\" FHD 220 Nits          Intel® UHD Graphics    \n178     NON                  15\" FHD          AMD Radeon Graphics    \n179     NON                       nan           Intel HD Graphics    \n\n                Processeur               RAM       Stockage               OS  \n0            Intel Core i7        RAM 16 Go     SSD 512 Go        Windows 11  \n1            intel Core i7   RAM DDR5 32 Go       SSD 1 To        Windows 11  \n2            intel Core i9   RAM DDR5 32 Go       SSD 2 To    Windows 11 Pro  \n3            intel Core i7   RAM DDR5 32 Go       SSD 1 To        Windows 11  \n4            intel Core i9   RAM DDR5 64 Go       SSD 2 To    Windows 11 Pro  \n..                     ...               ...            ...              ...  \n175          Intel Core i5         RAM 8 Go     SSD 256 Go        Windows 11  \n176          Intel Core i7        RAM 16 Go       SSD 1 To        Windows 10  \n177          Intel Core i3         RAM 8 Go     SSD 512 Go        Windows 11  \n178     AMD Ryzen 7 5700U          RAM 8 Go     SSD 512 Go        Windows 10  \n179   Intel Celeron N3350          RAM 4 Go             nan   Windows 10 Pro  \n\n[180 rows x 12 columns]",
      "text/html": "<div>\n<style scoped>\n    .dataframe tbody tr th:only-of-type {\n        vertical-align: middle;\n    }\n\n    .dataframe tbody tr th {\n        vertical-align: top;\n    }\n\n    .dataframe thead th {\n        text-align: right;\n    }\n</style>\n<table border=\"1\" class=\"dataframe\">\n  <thead>\n    <tr style=\"text-align: right;\">\n      <th></th>\n      <th>Brand</th>\n      <th>name</th>\n      <th>description</th>\n      <th>price_promo</th>\n      <th>price_old</th>\n      <th>Tactile</th>\n      <th>Ecran</th>\n      <th>Carte Graphique</th>\n      <th>Processeur</th>\n      <th>RAM</th>\n      <th>Stockage</th>\n      <th>OS</th>\n    </tr>\n  </thead>\n  <tbody>\n    <tr>\n      <th>0</th>\n      <td>MSI</td>\n      <td>Msi - Creator Z16 A11UET-276FR</td>\n      <td>16' Tactile 120 Hz QHD+ - Nvidia RTX 3060 MAX-...</td>\n      <td>None</td>\n      <td>2399.0</td>\n      <td>OUI</td>\n      <td>16' Tactile 120 Hz QHD+</td>\n      <td>Nvidia RTX 3060 MAX</td>\n      <td>Intel Core i7</td>\n      <td>RAM 16 Go</td>\n      <td>SSD 512 Go</td>\n      <td>Windows 11</td>\n    </tr>\n    <tr>\n      <th>1</th>\n      <td>MSI</td>\n      <td>Msi - Raider GE66 12UH-222FR</td>\n      <td>15.6\" UHD 120Hz - RTX 3080 GDDR6 8Go - intel C...</td>\n      <td>None</td>\n      <td>3499.99</td>\n      <td>NON</td>\n      <td>15.6\" UHD 120Hz</td>\n      <td>RTX 3080 GDDR6 8Go</td>\n      <td>intel Core i7</td>\n      <td>RAM DDR5 32 Go</td>\n      <td>SSD 1 To</td>\n      <td>Windows 11</td>\n    </tr>\n    <tr>\n      <th>2</th>\n      <td>MSI</td>\n      <td>Msi - Raider GE66 12UGS-088FR</td>\n      <td>15.6\" FHD 360Hz - RTX 3070 Ti GDDR6 8Go - inte...</td>\n      <td>3499.95</td>\n      <td>3600.98</td>\n      <td>NON</td>\n      <td>15.6\" FHD 360Hz</td>\n      <td>RTX 3070 Ti GDDR6 8Go</td>\n      <td>intel Core i9</td>\n      <td>RAM DDR5 32 Go</td>\n      <td>SSD 2 To</td>\n      <td>Windows 11 Pro</td>\n    </tr>\n    <tr>\n      <th>3</th>\n      <td>MSI</td>\n      <td>Msi - Raider GE66 12UHS-219FR</td>\n      <td>15.6\" UHD 120Hz - RTX 3080 Ti GDDR6 16Go - int...</td>\n      <td>None</td>\n      <td>3999.99</td>\n      <td>NON</td>\n      <td>15.6\" UHD 120Hz</td>\n      <td>RTX 3080 Ti GDDR6 16Go</td>\n      <td>intel Core i7</td>\n      <td>RAM DDR5 32 Go</td>\n      <td>SSD 1 To</td>\n      <td>Windows 11</td>\n    </tr>\n    <tr>\n      <th>4</th>\n      <td>MSI</td>\n      <td>Msi - Raider GE76 12UHS-229FR</td>\n      <td>17.3\" UHD 120Hz - RTX 3080 Ti GDDR6 16Go - int...</td>\n      <td>None</td>\n      <td>5099.99</td>\n      <td>NON</td>\n      <td>17.3\" UHD 120Hz</td>\n      <td>RTX 3080 Ti GDDR6 16Go</td>\n      <td>intel Core i9</td>\n      <td>RAM DDR5 64 Go</td>\n      <td>SSD 2 To</td>\n      <td>Windows 11 Pro</td>\n    </tr>\n    <tr>\n      <th>...</th>\n      <td>...</td>\n      <td>...</td>\n      <td>...</td>\n      <td>...</td>\n      <td>...</td>\n      <td>...</td>\n      <td>...</td>\n      <td>...</td>\n      <td>...</td>\n      <td>...</td>\n      <td>...</td>\n      <td>...</td>\n    </tr>\n    <tr>\n      <th>175</th>\n      <td>ASUS</td>\n      <td>Asus - Vivobook R515EA - Argent + Sacoche + So...</td>\n      <td>15\" FHD - Intel Core i5-1135G7 - RAM 8 Go -  S...</td>\n      <td>649.99</td>\n      <td>679.99</td>\n      <td>NON</td>\n      <td>15\" FHD</td>\n      <td>Intel Iris Xe Graphics</td>\n      <td>Intel Core i5</td>\n      <td>RAM 8 Go</td>\n      <td>SSD 256 Go</td>\n      <td>Windows 11</td>\n    </tr>\n    <tr>\n      <th>176</th>\n      <td>ASUS</td>\n      <td>Asus - ZenBook S13 - UX392FN-AB009T - Bleu Galaxy</td>\n      <td>13,9'' Full HD - Intel Core i7-8565U - SSD 1 T...</td>\n      <td>None</td>\n      <td>1769.99</td>\n      <td>NON</td>\n      <td>nan</td>\n      <td>NVIDIA GeForce MX150 2 Go</td>\n      <td>Intel Core i7</td>\n      <td>RAM 16 Go</td>\n      <td>SSD 1 To</td>\n      <td>Windows 10</td>\n    </tr>\n    <tr>\n      <th>177</th>\n      <td>ASUS</td>\n      <td>Asus - Vivobook R415EA-EK1154W - Argent Transp...</td>\n      <td>14\" FHD 220 Nits - Intel Core i3-1115G4 - RAM ...</td>\n      <td>569.99</td>\n      <td>599.99</td>\n      <td>NON</td>\n      <td>14\" FHD 220 Nits</td>\n      <td>Intel® UHD Graphics</td>\n      <td>Intel Core i3</td>\n      <td>RAM 8 Go</td>\n      <td>SSD 512 Go</td>\n      <td>Windows 11</td>\n    </tr>\n    <tr>\n      <th>178</th>\n      <td>ASUS</td>\n      <td>Asus - VivoBook 15\" S533UA-BQ020T - Argent</td>\n      <td>15\" FHD - AMD Ryzen 7 5700U - RAM 8 Go - SSD 5...</td>\n      <td>None</td>\n      <td>749.99</td>\n      <td>NON</td>\n      <td>15\" FHD</td>\n      <td>AMD Radeon Graphics</td>\n      <td>AMD Ryzen 7 5700U</td>\n      <td>RAM 8 Go</td>\n      <td>SSD 512 Go</td>\n      <td>Windows 10</td>\n    </tr>\n    <tr>\n      <th>179</th>\n      <td>ASUS</td>\n      <td>Asus - W202NA-GJ0026R - Bleu</td>\n      <td>11,6'' HD - Intel Celeron N3350 - eMMC 64 Go -...</td>\n      <td>None</td>\n      <td>328.33</td>\n      <td>NON</td>\n      <td>nan</td>\n      <td>Intel HD Graphics</td>\n      <td>Intel Celeron N3350</td>\n      <td>RAM 4 Go</td>\n      <td>nan</td>\n      <td>Windows 10 Pro</td>\n    </tr>\n  </tbody>\n</table>\n<p>180 rows × 12 columns</p>\n</div>"
     },
     "execution_count": 55,
     "metadata": {},
     "output_type": "execute_result"
    }
   ],
   "source": [
    "df"
   ],
   "metadata": {
    "collapsed": false,
    "pycharm": {
     "name": "#%%\n"
    }
   }
  },
  {
   "cell_type": "code",
   "execution_count": 56,
   "outputs": [],
   "source": [
    "def isfloat(num):\n",
    "    try:\n",
    "        float(num)\n",
    "        return True\n",
    "    except ValueError:\n",
    "        return False\n"
   ],
   "metadata": {
    "collapsed": false,
    "pycharm": {
     "name": "#%%\n"
    }
   }
  },
  {
   "cell_type": "code",
   "execution_count": 57,
   "outputs": [],
   "source": [
    "import math\n",
    "for ind , row in df.iterrows():\n",
    "    for el in row.Ecran.split() :\n",
    "        if any(car in el for car in [\"'\",'\"','”']) :\n",
    "            for specialChar in [\"'\",'\"','”'] :\n",
    "              el = el.replace(specialChar, '')\n",
    "            if isfloat(el) :\n",
    "             df.at[ind, \"Ecran\"] = float(el)\n",
    "        elif isfloat(el) :\n",
    "            df.at[ind, \"Ecran\"] = float(el)\n",
    "\n",
    "# df.Ecran.apply( lambda x: x.split(\" \")[0] )\n",
    "# df.Ecran.apply(lambda x : float(x)/10 if (float(x) > 100) else x )"
   ],
   "metadata": {
    "collapsed": false,
    "pycharm": {
     "name": "#%%\n"
    }
   }
  },
  {
   "cell_type": "code",
   "execution_count": 58,
   "outputs": [
    {
     "data": {
      "text/plain": "    Brand                                               name  \\\n0     MSI                     Msi - Creator Z16 A11UET-276FR   \n1     MSI                       Msi - Raider GE66 12UH-222FR   \n2     MSI                      Msi - Raider GE66 12UGS-088FR   \n3     MSI                      Msi - Raider GE66 12UHS-219FR   \n4     MSI                      Msi - Raider GE76 12UHS-229FR   \n..    ...                                                ...   \n175  ASUS  Asus - Vivobook R515EA - Argent + Sacoche + So...   \n176  ASUS  Asus - ZenBook S13 - UX392FN-AB009T - Bleu Galaxy   \n177  ASUS  Asus - Vivobook R415EA-EK1154W - Argent Transp...   \n178  ASUS         Asus - VivoBook 15\" S533UA-BQ020T - Argent   \n179  ASUS                       Asus - W202NA-GJ0026R - Bleu   \n\n                                           description price_promo price_old  \\\n0    16' Tactile 120 Hz QHD+ - Nvidia RTX 3060 MAX-...        None    2399.0   \n1    15.6\" UHD 120Hz - RTX 3080 GDDR6 8Go - intel C...        None   3499.99   \n2    15.6\" FHD 360Hz - RTX 3070 Ti GDDR6 8Go - inte...     3499.95   3600.98   \n3    15.6\" UHD 120Hz - RTX 3080 Ti GDDR6 16Go - int...        None   3999.99   \n4    17.3\" UHD 120Hz - RTX 3080 Ti GDDR6 16Go - int...        None   5099.99   \n..                                                 ...         ...       ...   \n175  15\" FHD - Intel Core i5-1135G7 - RAM 8 Go -  S...      649.99    679.99   \n176  13,9'' Full HD - Intel Core i7-8565U - SSD 1 T...        None   1769.99   \n177  14\" FHD 220 Nits - Intel Core i3-1115G4 - RAM ...      569.99    599.99   \n178  15\" FHD - AMD Ryzen 7 5700U - RAM 8 Go - SSD 5...        None    749.99   \n179  11,6'' HD - Intel Celeron N3350 - eMMC 64 Go -...        None    328.33   \n\n    Tactile  Ecran              Carte Graphique             Processeur  \\\n0       OUI  120.0          Nvidia RTX 3060 MAX          Intel Core i7   \n1       NON   15.6          RTX 3080 GDDR6 8Go           intel Core i7   \n2       NON   15.6       RTX 3070 Ti GDDR6 8Go           intel Core i9   \n3       NON   15.6      RTX 3080 Ti GDDR6 16Go           intel Core i7   \n4       NON   17.3      RTX 3080 Ti GDDR6 16Go           intel Core i9   \n..      ...    ...                          ...                    ...   \n175     NON   15.0      Intel Iris Xe Graphics           Intel Core i5   \n176     NON    NaN   NVIDIA GeForce MX150 2 Go           Intel Core i7   \n177     NON  220.0         Intel® UHD Graphics           Intel Core i3   \n178     NON   15.0         AMD Radeon Graphics      AMD Ryzen 7 5700U    \n179     NON    NaN           Intel HD Graphics    Intel Celeron N3350    \n\n                  RAM       Stockage               OS  \n0          RAM 16 Go     SSD 512 Go        Windows 11  \n1     RAM DDR5 32 Go       SSD 1 To        Windows 11  \n2     RAM DDR5 32 Go       SSD 2 To    Windows 11 Pro  \n3     RAM DDR5 32 Go       SSD 1 To        Windows 11  \n4     RAM DDR5 64 Go       SSD 2 To    Windows 11 Pro  \n..                ...            ...              ...  \n175         RAM 8 Go     SSD 256 Go        Windows 11  \n176        RAM 16 Go       SSD 1 To        Windows 10  \n177         RAM 8 Go     SSD 512 Go        Windows 11  \n178         RAM 8 Go     SSD 512 Go        Windows 10  \n179         RAM 4 Go             nan   Windows 10 Pro  \n\n[180 rows x 12 columns]",
      "text/html": "<div>\n<style scoped>\n    .dataframe tbody tr th:only-of-type {\n        vertical-align: middle;\n    }\n\n    .dataframe tbody tr th {\n        vertical-align: top;\n    }\n\n    .dataframe thead th {\n        text-align: right;\n    }\n</style>\n<table border=\"1\" class=\"dataframe\">\n  <thead>\n    <tr style=\"text-align: right;\">\n      <th></th>\n      <th>Brand</th>\n      <th>name</th>\n      <th>description</th>\n      <th>price_promo</th>\n      <th>price_old</th>\n      <th>Tactile</th>\n      <th>Ecran</th>\n      <th>Carte Graphique</th>\n      <th>Processeur</th>\n      <th>RAM</th>\n      <th>Stockage</th>\n      <th>OS</th>\n    </tr>\n  </thead>\n  <tbody>\n    <tr>\n      <th>0</th>\n      <td>MSI</td>\n      <td>Msi - Creator Z16 A11UET-276FR</td>\n      <td>16' Tactile 120 Hz QHD+ - Nvidia RTX 3060 MAX-...</td>\n      <td>None</td>\n      <td>2399.0</td>\n      <td>OUI</td>\n      <td>120.0</td>\n      <td>Nvidia RTX 3060 MAX</td>\n      <td>Intel Core i7</td>\n      <td>RAM 16 Go</td>\n      <td>SSD 512 Go</td>\n      <td>Windows 11</td>\n    </tr>\n    <tr>\n      <th>1</th>\n      <td>MSI</td>\n      <td>Msi - Raider GE66 12UH-222FR</td>\n      <td>15.6\" UHD 120Hz - RTX 3080 GDDR6 8Go - intel C...</td>\n      <td>None</td>\n      <td>3499.99</td>\n      <td>NON</td>\n      <td>15.6</td>\n      <td>RTX 3080 GDDR6 8Go</td>\n      <td>intel Core i7</td>\n      <td>RAM DDR5 32 Go</td>\n      <td>SSD 1 To</td>\n      <td>Windows 11</td>\n    </tr>\n    <tr>\n      <th>2</th>\n      <td>MSI</td>\n      <td>Msi - Raider GE66 12UGS-088FR</td>\n      <td>15.6\" FHD 360Hz - RTX 3070 Ti GDDR6 8Go - inte...</td>\n      <td>3499.95</td>\n      <td>3600.98</td>\n      <td>NON</td>\n      <td>15.6</td>\n      <td>RTX 3070 Ti GDDR6 8Go</td>\n      <td>intel Core i9</td>\n      <td>RAM DDR5 32 Go</td>\n      <td>SSD 2 To</td>\n      <td>Windows 11 Pro</td>\n    </tr>\n    <tr>\n      <th>3</th>\n      <td>MSI</td>\n      <td>Msi - Raider GE66 12UHS-219FR</td>\n      <td>15.6\" UHD 120Hz - RTX 3080 Ti GDDR6 16Go - int...</td>\n      <td>None</td>\n      <td>3999.99</td>\n      <td>NON</td>\n      <td>15.6</td>\n      <td>RTX 3080 Ti GDDR6 16Go</td>\n      <td>intel Core i7</td>\n      <td>RAM DDR5 32 Go</td>\n      <td>SSD 1 To</td>\n      <td>Windows 11</td>\n    </tr>\n    <tr>\n      <th>4</th>\n      <td>MSI</td>\n      <td>Msi - Raider GE76 12UHS-229FR</td>\n      <td>17.3\" UHD 120Hz - RTX 3080 Ti GDDR6 16Go - int...</td>\n      <td>None</td>\n      <td>5099.99</td>\n      <td>NON</td>\n      <td>17.3</td>\n      <td>RTX 3080 Ti GDDR6 16Go</td>\n      <td>intel Core i9</td>\n      <td>RAM DDR5 64 Go</td>\n      <td>SSD 2 To</td>\n      <td>Windows 11 Pro</td>\n    </tr>\n    <tr>\n      <th>...</th>\n      <td>...</td>\n      <td>...</td>\n      <td>...</td>\n      <td>...</td>\n      <td>...</td>\n      <td>...</td>\n      <td>...</td>\n      <td>...</td>\n      <td>...</td>\n      <td>...</td>\n      <td>...</td>\n      <td>...</td>\n    </tr>\n    <tr>\n      <th>175</th>\n      <td>ASUS</td>\n      <td>Asus - Vivobook R515EA - Argent + Sacoche + So...</td>\n      <td>15\" FHD - Intel Core i5-1135G7 - RAM 8 Go -  S...</td>\n      <td>649.99</td>\n      <td>679.99</td>\n      <td>NON</td>\n      <td>15.0</td>\n      <td>Intel Iris Xe Graphics</td>\n      <td>Intel Core i5</td>\n      <td>RAM 8 Go</td>\n      <td>SSD 256 Go</td>\n      <td>Windows 11</td>\n    </tr>\n    <tr>\n      <th>176</th>\n      <td>ASUS</td>\n      <td>Asus - ZenBook S13 - UX392FN-AB009T - Bleu Galaxy</td>\n      <td>13,9'' Full HD - Intel Core i7-8565U - SSD 1 T...</td>\n      <td>None</td>\n      <td>1769.99</td>\n      <td>NON</td>\n      <td>NaN</td>\n      <td>NVIDIA GeForce MX150 2 Go</td>\n      <td>Intel Core i7</td>\n      <td>RAM 16 Go</td>\n      <td>SSD 1 To</td>\n      <td>Windows 10</td>\n    </tr>\n    <tr>\n      <th>177</th>\n      <td>ASUS</td>\n      <td>Asus - Vivobook R415EA-EK1154W - Argent Transp...</td>\n      <td>14\" FHD 220 Nits - Intel Core i3-1115G4 - RAM ...</td>\n      <td>569.99</td>\n      <td>599.99</td>\n      <td>NON</td>\n      <td>220.0</td>\n      <td>Intel® UHD Graphics</td>\n      <td>Intel Core i3</td>\n      <td>RAM 8 Go</td>\n      <td>SSD 512 Go</td>\n      <td>Windows 11</td>\n    </tr>\n    <tr>\n      <th>178</th>\n      <td>ASUS</td>\n      <td>Asus - VivoBook 15\" S533UA-BQ020T - Argent</td>\n      <td>15\" FHD - AMD Ryzen 7 5700U - RAM 8 Go - SSD 5...</td>\n      <td>None</td>\n      <td>749.99</td>\n      <td>NON</td>\n      <td>15.0</td>\n      <td>AMD Radeon Graphics</td>\n      <td>AMD Ryzen 7 5700U</td>\n      <td>RAM 8 Go</td>\n      <td>SSD 512 Go</td>\n      <td>Windows 10</td>\n    </tr>\n    <tr>\n      <th>179</th>\n      <td>ASUS</td>\n      <td>Asus - W202NA-GJ0026R - Bleu</td>\n      <td>11,6'' HD - Intel Celeron N3350 - eMMC 64 Go -...</td>\n      <td>None</td>\n      <td>328.33</td>\n      <td>NON</td>\n      <td>NaN</td>\n      <td>Intel HD Graphics</td>\n      <td>Intel Celeron N3350</td>\n      <td>RAM 4 Go</td>\n      <td>nan</td>\n      <td>Windows 10 Pro</td>\n    </tr>\n  </tbody>\n</table>\n<p>180 rows × 12 columns</p>\n</div>"
     },
     "execution_count": 58,
     "metadata": {},
     "output_type": "execute_result"
    }
   ],
   "source": [
    "df"
   ],
   "metadata": {
    "collapsed": false,
    "pycharm": {
     "name": "#%%\n"
    }
   }
  },
  {
   "cell_type": "code",
   "execution_count": 59,
   "outputs": [],
   "source": [
    "import math\n",
    "df.Ecran = df.Ecran.apply(lambda x : df.Ecran.mode()[0] if x >200 or math.isnan(x) else\n",
    "                          x/10 if x> 100 else\n",
    "                          x\n",
    "               )"
   ],
   "metadata": {
    "collapsed": false,
    "pycharm": {
     "name": "#%%\n"
    }
   }
  },
  {
   "cell_type": "code",
   "execution_count": 60,
   "outputs": [
    {
     "data": {
      "text/plain": "array([' Nvidia RTX 3060 MAX', ' RTX 3080 GDDR6 8Go ',\n       ' RTX 3070 Ti GDDR6 8Go ', ' RTX 3080 Ti GDDR6 16Go ',\n       ' GTX 1650 Max Q GDDR6 ', ' Nvidia RTX 3070 ',\n       ' Intel UHD Graphics ', ' GeForce RTX™ 3070 Max',\n       ' NVIDIA GeForce RTX 3050 4 Go ', 'Nvidia RTX 3060 ',\n       ' RTX 3070 GDDR6 8Go ', ' RTX 3060 GDDR6 6Go ',\n       ' NVIDIA GeForce RTX 3080 Max', ' RTX 3050 Max',\n       ' Nvidia GeForce GTX 1650 ', ' Nvidia GeForce RTX 3050 ', 'nan',\n       ' UHD Graphics ', ' RTX 3070 Ti ', ' RTX 3050 GDDR6 ',\n       ' Nvidia GTX 1660 Ti ', ' Nvidia GTX 1650 ti ',\n       ' Nvidia GTX 1660 ', ' RTX 3070 Max', 'Nvidia RTX 3050 MAX',\n       ' Nvidia RTX 3050 ', ' NVIDIA GeForce RTX 3060 6 Go ',\n       ' AMD Radeon™ RX 6700M', ' Nvidia RTX 3060 6 Go ',\n       ' RTX 3070 Ti Max', ' RTX 3080 ', ' RTX 3060 Max',\n       ' Nvidia RTX 3060 ', ' Nvidia GTX 1650 Max Q ',\n       ' Iris Xe Graphics ', ' NVIDIA GeForce RTX 3080 16 Go ',\n       ' Nvidia RTX 3080 ', ' NVIDIA GeForce RTX 3070 Max',\n       ' AMD Radeon Graphics ', ' NVIDIA GeForce RTX 3060 6Go ',\n       ' NVIDIA GeForce RTX 3050Ti 4GB ',\n       ' AMD Radeon Integrated Graphics', ' Intel Iris Xe ',\n       ' AMD Radeon Integrated Graphics ', ' AMD Radeon RX Vega 6 ',\n       ' Nvidia GeForce RTX 3060 6GB ', ' Carte graphique AMD Radeon ',\n       ' Nvidia GeForce RTX 2070 8 Go ', ' NVIDIA GeForce RTX 3060 6GB ',\n       ' NVIDIA GeForce RTX 2060 6 Go ', ' NVIDIA GeForce RTX 3050 4GB ',\n       ' NVIDIA GeForce GTX 1650 4 Go ', ' NVIDIA GeForce GTX 1650 Ti ',\n       ' Nvidia GeForce RTX 3070 ', ' Nvidia GeForce MX350 ',\n       ' Intel Iris Xe', ' AMD Radeon Vega 3 ',\n       ' NVIDIA GeForce RTX 3050 4Go ', ' NVIDIA GeForce RTX 2080 8 Go ',\n       ' NVIDIA GeForce GTX 1060 3 Go ', ' Intel UHD Graphics',\n       ' Intel® UHD Graphics ', ' AMD Radeon RX Vega 8 ',\n       ' Intel UHD Graphics 620 ', ' Nvidia Geforce RTX 3060 6 Go ',\n       ' Nvidia GeForce RTX 3050 4 Go ', ' Intel Iris Xe Graphics ',\n       ' NVIDIA GEFORCE RTX 3050 Ti Max',\n       ' NVIDIA\\xa0GeForce\\xa0RTX\\xa03050 Max', ' Intel Xe Graphics ',\n       ' NVIDIA GeForce RTX 3060 ',\n       ' NVIDIA\\xa0GeForce\\xa0RTX\\xa03050 Ti ',\n       ' NVIDIA GeForce GTX 1660 Ti ',\n       ' NVIDIA\\xa0GeForce\\xa0RTX\\xa03050 ',\n       ' Nvidia\\xa0GeForce\\xa0RTX\\xa03070\\xa0Max',\n       ' Nvidia GeForce RTX 3060 ', ' Intel Iris Xe Graphics',\n       ' NVIDIA GeForce GTX 1650 Ti 4 Go ', ' NVIDIA GeForce RTX 3070 ',\n       ' Intel Ultra HD Graphics ',\n       ' NVIDIA GeForce RTX 2070 Super 8 Go ',\n       ' Nvidia GeForce RTX 3050 4GB ', ' NVIDIA GeForce MX150 2 Go ',\n       ' Intel HD Graphics '], dtype=object)"
     },
     "execution_count": 60,
     "metadata": {},
     "output_type": "execute_result"
    }
   ],
   "source": [
    "df[\"Carte Graphique\"].unique()"
   ],
   "metadata": {
    "collapsed": false,
    "pycharm": {
     "name": "#%%\n"
    }
   }
  },
  {
   "cell_type": "markdown",
   "source": [
    "# Rule Based Data featuring"
   ],
   "metadata": {
    "collapsed": false,
    "pycharm": {
     "name": "#%% md\n"
    }
   }
  },
  {
   "cell_type": "code",
   "execution_count": 61,
   "outputs": [],
   "source": [
    "for ind , row in df.iterrows():\n",
    "    if any(el in [\"NVIDIA\",\"Nvidia\",\"RTX\",\"GTX\"] for el in row[\"Carte Graphique\"].split(\" \")) :\n",
    "        df.at[ind,\"GPU brand\"] = \"NVIDIA\"\n",
    "    elif any(el in [\"AMD\",\"Amd\",\"Radeon\",\"Athlon\"] for el in row[\"Carte Graphique\"].split(\" \")):\n",
    "        df.at[ind,\"GPU brand\"] = \"AMD\"\n",
    "    elif any(el in [\"Intel\",\"INTEL\",\"Graphics\"] for el in row[\"Carte Graphique\"].split(\" \")):\n",
    "        df.at[ind,\"GPU brand\"] = \"Intel\""
   ],
   "metadata": {
    "collapsed": false,
    "pycharm": {
     "name": "#%%\n"
    }
   }
  },
  {
   "cell_type": "code",
   "execution_count": 62,
   "outputs": [],
   "source": [
    "for ind , row in df.iterrows():\n",
    "    if any(el in [\"i5\",\"I5\"] for el in row[\"Processeur\"].split(\" \")) :\n",
    "        df.at[ind,\"Processeur\"] = \"i5\"\n",
    "    elif any(el in [\"i3\",\"I3\"] for el in row[\"Processeur\"].split(\" \")):\n",
    "        df.at[ind,\"Processeur\"] = \"i3\"\n",
    "    elif any(el in [\"i7\",\"I7\"] for el in row[\"Processeur\"].split(\" \")):\n",
    "        df.at[ind,\"Processeur\"] = \"i7\"\n",
    "    elif any(el in [\"i9\",\"I9\"] for el in row[\"Processeur\"].split(\" \")):\n",
    "        df.at[ind,\"Processeur\"] = \"i9\"\n",
    "    elif \"Ryzen 5\" in row[\"Processeur\"]:\n",
    "        df.at[ind,\"Processeur\"] = \"Ryzen 5\"\n",
    "    elif \"Ryzen 7\" in row[\"Processeur\"]:\n",
    "        df.at[ind,\"Processeur\"] = \"Ryzen 7\"\n",
    "    elif \"Ryzen 9\" in row[\"Processeur\"]:\n",
    "        df.at[ind,\"Processeur\"] = \"Ryzen 9\"\n",
    "    elif \"Ryzen 3\" in row[\"Processeur\"]:\n",
    "        df.at[ind,\"Processeur\"] = \"Ryzen 3\"\n",
    "    elif any(el in [\"Celeron\",\"CELERON\"] for el in row[\"Processeur\"].split(\" \")):\n",
    "        df.at[ind,\"Processeur\"] = \"Celeron\"\n",
    "    elif any(el in [\"Athlon\",\"ATHLON\"] for el in row[\"Processeur\"].split(\" \")):\n",
    "        df.at[ind,\"Processeur\"] = \"Athlon\"\n",
    "    elif any(el in [\"PENTIUM\",\"Pentium\"] for el in row[\"Processeur\"].split(\" \")):\n",
    "        df.at[ind,\"Processeur\"] = \"Athlon\""
   ],
   "metadata": {
    "collapsed": false,
    "pycharm": {
     "name": "#%%\n"
    }
   }
  },
  {
   "cell_type": "code",
   "execution_count": 63,
   "outputs": [],
   "source": [
    "df.OS= df.OS.apply(lambda x : \"Windows 10\"  if (\"Windows 10\" in x)\n",
    "                            else ( \"Windows 11\" if \"Windows 11\" in x\n",
    "                                   else None  )\n",
    ")"
   ],
   "metadata": {
    "collapsed": false,
    "pycharm": {
     "name": "#%%\n"
    }
   }
  },
  {
   "cell_type": "code",
   "execution_count": 75,
   "outputs": [],
   "source": [
    "lst = [\"RAM\",\"GO\",\"Go\",\"GB\",\"DDR4\",\"DDR5\",\"DDR3\"]\n",
    "\n",
    "for ind , row in df.iterrows() :\n",
    "    if any(el in row.RAM for el in lst) :\n",
    "        for el in lst :\n",
    "            df.at[ind, \"RAM\"] = df.at[ind,\"RAM\"].replace(el,\"\")\n",
    "\n",
    "    df.at[ind,\"RAM\"] = df.at[ind,\"RAM\"].split()[0]\n",
    "\n",
    "rm = ['4','6','8','12','16','32','64']\n",
    "df.RAM = df.RAM.apply(lambda x : df.RAM.mode()[0] if x not in rm else\n",
    "                         x )"
   ],
   "metadata": {
    "collapsed": false,
    "pycharm": {
     "name": "#%%\n"
    }
   }
  },
  {
   "cell_type": "code",
   "execution_count": 77,
   "outputs": [
    {
     "data": {
      "text/plain": "    Brand                                               name  \\\n0     MSI                     Msi - Creator Z16 A11UET-276FR   \n1     MSI                       Msi - Raider GE66 12UH-222FR   \n2     MSI                      Msi - Raider GE66 12UGS-088FR   \n3     MSI                      Msi - Raider GE66 12UHS-219FR   \n4     MSI                      Msi - Raider GE76 12UHS-229FR   \n..    ...                                                ...   \n175  ASUS  Asus - Vivobook R515EA - Argent + Sacoche + So...   \n176  ASUS  Asus - ZenBook S13 - UX392FN-AB009T - Bleu Galaxy   \n177  ASUS  Asus - Vivobook R415EA-EK1154W - Argent Transp...   \n178  ASUS         Asus - VivoBook 15\" S533UA-BQ020T - Argent   \n179  ASUS                       Asus - W202NA-GJ0026R - Bleu   \n\n                                           description price_promo price_old  \\\n0    16' Tactile 120 Hz QHD+ - Nvidia RTX 3060 MAX-...        None    2399.0   \n1    15.6\" UHD 120Hz - RTX 3080 GDDR6 8Go - intel C...        None   3499.99   \n2    15.6\" FHD 360Hz - RTX 3070 Ti GDDR6 8Go - inte...     3499.95   3600.98   \n3    15.6\" UHD 120Hz - RTX 3080 Ti GDDR6 16Go - int...        None   3999.99   \n4    17.3\" UHD 120Hz - RTX 3080 Ti GDDR6 16Go - int...        None   5099.99   \n..                                                 ...         ...       ...   \n175  15\" FHD - Intel Core i5-1135G7 - RAM 8 Go -  S...      649.99    679.99   \n176  13,9'' Full HD - Intel Core i7-8565U - SSD 1 T...        None   1769.99   \n177  14\" FHD 220 Nits - Intel Core i3-1115G4 - RAM ...      569.99    599.99   \n178  15\" FHD - AMD Ryzen 7 5700U - RAM 8 Go - SSD 5...        None    749.99   \n179  11,6'' HD - Intel Celeron N3350 - eMMC 64 Go -...        None    328.33   \n\n    Tactile  Ecran              Carte Graphique Processeur RAM       Stockage  \\\n0       OUI   12.0          Nvidia RTX 3060 MAX         i7  16    SSD 512 Go    \n1       NON   15.6          RTX 3080 GDDR6 8Go          i7  32      SSD 1 To    \n2       NON   15.6       RTX 3070 Ti GDDR6 8Go          i9  32      SSD 2 To    \n3       NON   15.6      RTX 3080 Ti GDDR6 16Go          i7  32      SSD 1 To    \n4       NON   17.3      RTX 3080 Ti GDDR6 16Go          i9  64      SSD 2 To    \n..      ...    ...                          ...        ...  ..            ...   \n175     NON   15.0      Intel Iris Xe Graphics          i5   8    SSD 256 Go    \n176     NON   15.6   NVIDIA GeForce MX150 2 Go          i7  16      SSD 1 To    \n177     NON   15.6         Intel® UHD Graphics          i3   8    SSD 512 Go    \n178     NON   15.0         AMD Radeon Graphics     Ryzen 7   8    SSD 512 Go    \n179     NON   15.6           Intel HD Graphics     Celeron   4            nan   \n\n             OS GPU brand  \n0    Windows 11    NVIDIA  \n1    Windows 11    NVIDIA  \n2    Windows 11    NVIDIA  \n3    Windows 11    NVIDIA  \n4    Windows 11    NVIDIA  \n..          ...       ...  \n175  Windows 11     Intel  \n176  Windows 10    NVIDIA  \n177  Windows 11     Intel  \n178  Windows 10       AMD  \n179  Windows 10     Intel  \n\n[180 rows x 13 columns]",
      "text/html": "<div>\n<style scoped>\n    .dataframe tbody tr th:only-of-type {\n        vertical-align: middle;\n    }\n\n    .dataframe tbody tr th {\n        vertical-align: top;\n    }\n\n    .dataframe thead th {\n        text-align: right;\n    }\n</style>\n<table border=\"1\" class=\"dataframe\">\n  <thead>\n    <tr style=\"text-align: right;\">\n      <th></th>\n      <th>Brand</th>\n      <th>name</th>\n      <th>description</th>\n      <th>price_promo</th>\n      <th>price_old</th>\n      <th>Tactile</th>\n      <th>Ecran</th>\n      <th>Carte Graphique</th>\n      <th>Processeur</th>\n      <th>RAM</th>\n      <th>Stockage</th>\n      <th>OS</th>\n      <th>GPU brand</th>\n    </tr>\n  </thead>\n  <tbody>\n    <tr>\n      <th>0</th>\n      <td>MSI</td>\n      <td>Msi - Creator Z16 A11UET-276FR</td>\n      <td>16' Tactile 120 Hz QHD+ - Nvidia RTX 3060 MAX-...</td>\n      <td>None</td>\n      <td>2399.0</td>\n      <td>OUI</td>\n      <td>12.0</td>\n      <td>Nvidia RTX 3060 MAX</td>\n      <td>i7</td>\n      <td>16</td>\n      <td>SSD 512 Go</td>\n      <td>Windows 11</td>\n      <td>NVIDIA</td>\n    </tr>\n    <tr>\n      <th>1</th>\n      <td>MSI</td>\n      <td>Msi - Raider GE66 12UH-222FR</td>\n      <td>15.6\" UHD 120Hz - RTX 3080 GDDR6 8Go - intel C...</td>\n      <td>None</td>\n      <td>3499.99</td>\n      <td>NON</td>\n      <td>15.6</td>\n      <td>RTX 3080 GDDR6 8Go</td>\n      <td>i7</td>\n      <td>32</td>\n      <td>SSD 1 To</td>\n      <td>Windows 11</td>\n      <td>NVIDIA</td>\n    </tr>\n    <tr>\n      <th>2</th>\n      <td>MSI</td>\n      <td>Msi - Raider GE66 12UGS-088FR</td>\n      <td>15.6\" FHD 360Hz - RTX 3070 Ti GDDR6 8Go - inte...</td>\n      <td>3499.95</td>\n      <td>3600.98</td>\n      <td>NON</td>\n      <td>15.6</td>\n      <td>RTX 3070 Ti GDDR6 8Go</td>\n      <td>i9</td>\n      <td>32</td>\n      <td>SSD 2 To</td>\n      <td>Windows 11</td>\n      <td>NVIDIA</td>\n    </tr>\n    <tr>\n      <th>3</th>\n      <td>MSI</td>\n      <td>Msi - Raider GE66 12UHS-219FR</td>\n      <td>15.6\" UHD 120Hz - RTX 3080 Ti GDDR6 16Go - int...</td>\n      <td>None</td>\n      <td>3999.99</td>\n      <td>NON</td>\n      <td>15.6</td>\n      <td>RTX 3080 Ti GDDR6 16Go</td>\n      <td>i7</td>\n      <td>32</td>\n      <td>SSD 1 To</td>\n      <td>Windows 11</td>\n      <td>NVIDIA</td>\n    </tr>\n    <tr>\n      <th>4</th>\n      <td>MSI</td>\n      <td>Msi - Raider GE76 12UHS-229FR</td>\n      <td>17.3\" UHD 120Hz - RTX 3080 Ti GDDR6 16Go - int...</td>\n      <td>None</td>\n      <td>5099.99</td>\n      <td>NON</td>\n      <td>17.3</td>\n      <td>RTX 3080 Ti GDDR6 16Go</td>\n      <td>i9</td>\n      <td>64</td>\n      <td>SSD 2 To</td>\n      <td>Windows 11</td>\n      <td>NVIDIA</td>\n    </tr>\n    <tr>\n      <th>...</th>\n      <td>...</td>\n      <td>...</td>\n      <td>...</td>\n      <td>...</td>\n      <td>...</td>\n      <td>...</td>\n      <td>...</td>\n      <td>...</td>\n      <td>...</td>\n      <td>...</td>\n      <td>...</td>\n      <td>...</td>\n      <td>...</td>\n    </tr>\n    <tr>\n      <th>175</th>\n      <td>ASUS</td>\n      <td>Asus - Vivobook R515EA - Argent + Sacoche + So...</td>\n      <td>15\" FHD - Intel Core i5-1135G7 - RAM 8 Go -  S...</td>\n      <td>649.99</td>\n      <td>679.99</td>\n      <td>NON</td>\n      <td>15.0</td>\n      <td>Intel Iris Xe Graphics</td>\n      <td>i5</td>\n      <td>8</td>\n      <td>SSD 256 Go</td>\n      <td>Windows 11</td>\n      <td>Intel</td>\n    </tr>\n    <tr>\n      <th>176</th>\n      <td>ASUS</td>\n      <td>Asus - ZenBook S13 - UX392FN-AB009T - Bleu Galaxy</td>\n      <td>13,9'' Full HD - Intel Core i7-8565U - SSD 1 T...</td>\n      <td>None</td>\n      <td>1769.99</td>\n      <td>NON</td>\n      <td>15.6</td>\n      <td>NVIDIA GeForce MX150 2 Go</td>\n      <td>i7</td>\n      <td>16</td>\n      <td>SSD 1 To</td>\n      <td>Windows 10</td>\n      <td>NVIDIA</td>\n    </tr>\n    <tr>\n      <th>177</th>\n      <td>ASUS</td>\n      <td>Asus - Vivobook R415EA-EK1154W - Argent Transp...</td>\n      <td>14\" FHD 220 Nits - Intel Core i3-1115G4 - RAM ...</td>\n      <td>569.99</td>\n      <td>599.99</td>\n      <td>NON</td>\n      <td>15.6</td>\n      <td>Intel® UHD Graphics</td>\n      <td>i3</td>\n      <td>8</td>\n      <td>SSD 512 Go</td>\n      <td>Windows 11</td>\n      <td>Intel</td>\n    </tr>\n    <tr>\n      <th>178</th>\n      <td>ASUS</td>\n      <td>Asus - VivoBook 15\" S533UA-BQ020T - Argent</td>\n      <td>15\" FHD - AMD Ryzen 7 5700U - RAM 8 Go - SSD 5...</td>\n      <td>None</td>\n      <td>749.99</td>\n      <td>NON</td>\n      <td>15.0</td>\n      <td>AMD Radeon Graphics</td>\n      <td>Ryzen 7</td>\n      <td>8</td>\n      <td>SSD 512 Go</td>\n      <td>Windows 10</td>\n      <td>AMD</td>\n    </tr>\n    <tr>\n      <th>179</th>\n      <td>ASUS</td>\n      <td>Asus - W202NA-GJ0026R - Bleu</td>\n      <td>11,6'' HD - Intel Celeron N3350 - eMMC 64 Go -...</td>\n      <td>None</td>\n      <td>328.33</td>\n      <td>NON</td>\n      <td>15.6</td>\n      <td>Intel HD Graphics</td>\n      <td>Celeron</td>\n      <td>4</td>\n      <td>nan</td>\n      <td>Windows 10</td>\n      <td>Intel</td>\n    </tr>\n  </tbody>\n</table>\n<p>180 rows × 13 columns</p>\n</div>"
     },
     "execution_count": 77,
     "metadata": {},
     "output_type": "execute_result"
    }
   ],
   "source": [
    "df"
   ],
   "metadata": {
    "collapsed": false,
    "pycharm": {
     "name": "#%%\n"
    }
   }
  },
  {
   "cell_type": "code",
   "execution_count": null,
   "outputs": [],
   "source": [
    "df.to_excel(r'E:\\2eme spéc\\BI\\scraped_data.xlsx', index=False)"
   ],
   "metadata": {
    "collapsed": false,
    "pycharm": {
     "name": "#%%\n"
    }
   }
  },
  {
   "cell_type": "code",
   "execution_count": null,
   "outputs": [],
   "source": [],
   "metadata": {
    "collapsed": false,
    "pycharm": {
     "name": "#%%\n"
    }
   }
  },
  {
   "cell_type": "markdown",
   "source": [
    "# Sentiment Analysis"
   ],
   "metadata": {
    "collapsed": false,
    "pycharm": {
     "name": "#%% md\n"
    }
   }
  },
  {
   "cell_type": "code",
   "execution_count": 171,
   "outputs": [],
   "source": [
    "avis =[]\n",
    "file= {\"amazon\" : \"AMAZON_AVIS.txt\",\"cdiscount\" :\"CDISCOUNT_AVIS.txt\", \"RueDuCommerce\" :\"RUEDUCOMMERCE_AVIS.txt\"}\n",
    "\n",
    "for key, value in file.items() :\n",
    " with open(value, 'r') as f:\n",
    "      content = f.read().strip()\n",
    "      for el in content.split('*') :\n",
    "        if len(el) != 0 :\n",
    "         avis.append({'Entreprise' : key , 'avis' : el})"
   ],
   "metadata": {
    "collapsed": false,
    "pycharm": {
     "name": "#%%\n"
    }
   }
  },
  {
   "cell_type": "code",
   "execution_count": 172,
   "outputs": [],
   "source": [
    "avis_df = pd.DataFrame(avis)"
   ],
   "metadata": {
    "collapsed": false,
    "pycharm": {
     "name": "#%%\n"
    }
   }
  },
  {
   "cell_type": "code",
   "execution_count": 173,
   "outputs": [
    {
     "data": {
      "text/plain": "       Entreprise                                               avis\n0          amazon   What more could you ask for for the price?\\nT...\n1          amazon   This pc has me a lot more I looked at it for ...\n2          amazon   Very good PC but it is necessary to plan to c...\n3          amazon  I did my research on the Lenovo site, and thou...\n4          amazon  We bought this laptop as a Christmas gift for ...\n5          amazon  Can't keep strong wifi signal and freezes/cras...\n6          amazon  Iâ€™ve had this laptop for less than 24 hours ...\n7          amazon  Just received computer today and was very happ...\n8          amazon  Good laptop for price. 15 second start up from...\n9          amazon  it let me partially set up, and then would not...\n10         amazon   This pc has me a lot more I looked at it for ...\n11         amazon   A bit noisy in terms of ventilation when gami...\n12         amazon   Works,,, but 16g of ram is a bit light and th...\n13         amazon   Very good pc, but big problem of internet con...\n14         amazon   Made to evacuate heat, it holds well even on ...\n15         amazon   For the core I5 â€‹â€‹15 inches the keyboard ...\n16         amazon                                                Top\n17      cdiscount   Wifi is not available, for a laptop, it's alm...\n18      cdiscount   Fast, long battery life, no worries I recomme...\n19      cdiscount   I haven't tried it yet, but already, the chas...\n20      cdiscount   Battery stuck at 57 percent, heats up a lot, ...\n21      cdiscount   Everything is perfect, very good ventilation,...\n22      cdiscount   Very good for playing and \"fix\" mode\\nThe bat...\n23      cdiscount   For serious gaming without having to pay 2 mi...\n24      cdiscount            this computer is simply exceptional\\n\\n\n25      cdiscount   Good laptop: - fast - great 120Hz screen - go...\n26      cdiscount   A good competition PC, despite an autonomy th...\n27      cdiscount   Well packaged and arrived at the time expecte...\n28      cdiscount   Meets all my expectations Everything is perfe...\n29      cdiscount   Factory configuration problem probably as soo...\n30      cdiscount   Factory configuration problem probably as soo...\n31      cdiscount  Official product and at the same price as on A...\n32  RueDuCommerce   \"Very good laptop! Fast, light, and reasonabl...\n33  RueDuCommerce                                      \"A beast\"\\n\\n\n34  RueDuCommerce                                         \"WELL\"\\n\\n\n35  RueDuCommerce   \"A very good pc has a very good price by bene...\n36  RueDuCommerce                   \"Low memory capacity damage\"\\n\\n\n37  RueDuCommerce   \"Very simple and beautiful design, the comput...\n38  RueDuCommerce   \"Perfect computer. Unpleasant high-pitched no...\n39  RueDuCommerce   This PC leaves a very mixed opinion! The perf...\n40  RueDuCommerce               \"The product is great thank you\"\\n\\n\n41  RueDuCommerce   Powerful computer on the other hand, the nume...\n42  RueDuCommerce   Only negative point a fourth USB port b or c ...\n43  RueDuCommerce   Item arrived very well packaged and very well...\n44  RueDuCommerce  everything is perfect super pc excellent keybo...\n45  RueDuCommerce  Powerful computer, 6 cores and m2 disk for a f...\n46  RueDuCommerce                               very good computer\\n\n47  RueDuCommerce                                      Great I like'",
      "text/html": "<div>\n<style scoped>\n    .dataframe tbody tr th:only-of-type {\n        vertical-align: middle;\n    }\n\n    .dataframe tbody tr th {\n        vertical-align: top;\n    }\n\n    .dataframe thead th {\n        text-align: right;\n    }\n</style>\n<table border=\"1\" class=\"dataframe\">\n  <thead>\n    <tr style=\"text-align: right;\">\n      <th></th>\n      <th>Entreprise</th>\n      <th>avis</th>\n    </tr>\n  </thead>\n  <tbody>\n    <tr>\n      <th>0</th>\n      <td>amazon</td>\n      <td>What more could you ask for for the price?\\nT...</td>\n    </tr>\n    <tr>\n      <th>1</th>\n      <td>amazon</td>\n      <td>This pc has me a lot more I looked at it for ...</td>\n    </tr>\n    <tr>\n      <th>2</th>\n      <td>amazon</td>\n      <td>Very good PC but it is necessary to plan to c...</td>\n    </tr>\n    <tr>\n      <th>3</th>\n      <td>amazon</td>\n      <td>I did my research on the Lenovo site, and thou...</td>\n    </tr>\n    <tr>\n      <th>4</th>\n      <td>amazon</td>\n      <td>We bought this laptop as a Christmas gift for ...</td>\n    </tr>\n    <tr>\n      <th>5</th>\n      <td>amazon</td>\n      <td>Can't keep strong wifi signal and freezes/cras...</td>\n    </tr>\n    <tr>\n      <th>6</th>\n      <td>amazon</td>\n      <td>Iâ€™ve had this laptop for less than 24 hours ...</td>\n    </tr>\n    <tr>\n      <th>7</th>\n      <td>amazon</td>\n      <td>Just received computer today and was very happ...</td>\n    </tr>\n    <tr>\n      <th>8</th>\n      <td>amazon</td>\n      <td>Good laptop for price. 15 second start up from...</td>\n    </tr>\n    <tr>\n      <th>9</th>\n      <td>amazon</td>\n      <td>it let me partially set up, and then would not...</td>\n    </tr>\n    <tr>\n      <th>10</th>\n      <td>amazon</td>\n      <td>This pc has me a lot more I looked at it for ...</td>\n    </tr>\n    <tr>\n      <th>11</th>\n      <td>amazon</td>\n      <td>A bit noisy in terms of ventilation when gami...</td>\n    </tr>\n    <tr>\n      <th>12</th>\n      <td>amazon</td>\n      <td>Works,,, but 16g of ram is a bit light and th...</td>\n    </tr>\n    <tr>\n      <th>13</th>\n      <td>amazon</td>\n      <td>Very good pc, but big problem of internet con...</td>\n    </tr>\n    <tr>\n      <th>14</th>\n      <td>amazon</td>\n      <td>Made to evacuate heat, it holds well even on ...</td>\n    </tr>\n    <tr>\n      <th>15</th>\n      <td>amazon</td>\n      <td>For the core I5 â€‹â€‹15 inches the keyboard ...</td>\n    </tr>\n    <tr>\n      <th>16</th>\n      <td>amazon</td>\n      <td>Top</td>\n    </tr>\n    <tr>\n      <th>17</th>\n      <td>cdiscount</td>\n      <td>Wifi is not available, for a laptop, it's alm...</td>\n    </tr>\n    <tr>\n      <th>18</th>\n      <td>cdiscount</td>\n      <td>Fast, long battery life, no worries I recomme...</td>\n    </tr>\n    <tr>\n      <th>19</th>\n      <td>cdiscount</td>\n      <td>I haven't tried it yet, but already, the chas...</td>\n    </tr>\n    <tr>\n      <th>20</th>\n      <td>cdiscount</td>\n      <td>Battery stuck at 57 percent, heats up a lot, ...</td>\n    </tr>\n    <tr>\n      <th>21</th>\n      <td>cdiscount</td>\n      <td>Everything is perfect, very good ventilation,...</td>\n    </tr>\n    <tr>\n      <th>22</th>\n      <td>cdiscount</td>\n      <td>Very good for playing and \"fix\" mode\\nThe bat...</td>\n    </tr>\n    <tr>\n      <th>23</th>\n      <td>cdiscount</td>\n      <td>For serious gaming without having to pay 2 mi...</td>\n    </tr>\n    <tr>\n      <th>24</th>\n      <td>cdiscount</td>\n      <td>this computer is simply exceptional\\n\\n</td>\n    </tr>\n    <tr>\n      <th>25</th>\n      <td>cdiscount</td>\n      <td>Good laptop: - fast - great 120Hz screen - go...</td>\n    </tr>\n    <tr>\n      <th>26</th>\n      <td>cdiscount</td>\n      <td>A good competition PC, despite an autonomy th...</td>\n    </tr>\n    <tr>\n      <th>27</th>\n      <td>cdiscount</td>\n      <td>Well packaged and arrived at the time expecte...</td>\n    </tr>\n    <tr>\n      <th>28</th>\n      <td>cdiscount</td>\n      <td>Meets all my expectations Everything is perfe...</td>\n    </tr>\n    <tr>\n      <th>29</th>\n      <td>cdiscount</td>\n      <td>Factory configuration problem probably as soo...</td>\n    </tr>\n    <tr>\n      <th>30</th>\n      <td>cdiscount</td>\n      <td>Factory configuration problem probably as soo...</td>\n    </tr>\n    <tr>\n      <th>31</th>\n      <td>cdiscount</td>\n      <td>Official product and at the same price as on A...</td>\n    </tr>\n    <tr>\n      <th>32</th>\n      <td>RueDuCommerce</td>\n      <td>\"Very good laptop! Fast, light, and reasonabl...</td>\n    </tr>\n    <tr>\n      <th>33</th>\n      <td>RueDuCommerce</td>\n      <td>\"A beast\"\\n\\n</td>\n    </tr>\n    <tr>\n      <th>34</th>\n      <td>RueDuCommerce</td>\n      <td>\"WELL\"\\n\\n</td>\n    </tr>\n    <tr>\n      <th>35</th>\n      <td>RueDuCommerce</td>\n      <td>\"A very good pc has a very good price by bene...</td>\n    </tr>\n    <tr>\n      <th>36</th>\n      <td>RueDuCommerce</td>\n      <td>\"Low memory capacity damage\"\\n\\n</td>\n    </tr>\n    <tr>\n      <th>37</th>\n      <td>RueDuCommerce</td>\n      <td>\"Very simple and beautiful design, the comput...</td>\n    </tr>\n    <tr>\n      <th>38</th>\n      <td>RueDuCommerce</td>\n      <td>\"Perfect computer. Unpleasant high-pitched no...</td>\n    </tr>\n    <tr>\n      <th>39</th>\n      <td>RueDuCommerce</td>\n      <td>This PC leaves a very mixed opinion! The perf...</td>\n    </tr>\n    <tr>\n      <th>40</th>\n      <td>RueDuCommerce</td>\n      <td>\"The product is great thank you\"\\n\\n</td>\n    </tr>\n    <tr>\n      <th>41</th>\n      <td>RueDuCommerce</td>\n      <td>Powerful computer on the other hand, the nume...</td>\n    </tr>\n    <tr>\n      <th>42</th>\n      <td>RueDuCommerce</td>\n      <td>Only negative point a fourth USB port b or c ...</td>\n    </tr>\n    <tr>\n      <th>43</th>\n      <td>RueDuCommerce</td>\n      <td>Item arrived very well packaged and very well...</td>\n    </tr>\n    <tr>\n      <th>44</th>\n      <td>RueDuCommerce</td>\n      <td>everything is perfect super pc excellent keybo...</td>\n    </tr>\n    <tr>\n      <th>45</th>\n      <td>RueDuCommerce</td>\n      <td>Powerful computer, 6 cores and m2 disk for a f...</td>\n    </tr>\n    <tr>\n      <th>46</th>\n      <td>RueDuCommerce</td>\n      <td>very good computer\\n</td>\n    </tr>\n    <tr>\n      <th>47</th>\n      <td>RueDuCommerce</td>\n      <td>Great I like'</td>\n    </tr>\n  </tbody>\n</table>\n</div>"
     },
     "execution_count": 173,
     "metadata": {},
     "output_type": "execute_result"
    }
   ],
   "source": [
    "avis_df"
   ],
   "metadata": {
    "collapsed": false,
    "pycharm": {
     "name": "#%%\n"
    }
   }
  },
  {
   "cell_type": "code",
   "execution_count": null,
   "outputs": [],
   "source": [
    "pip install transformers"
   ],
   "metadata": {
    "collapsed": false,
    "pycharm": {
     "name": "#%%\n",
     "is_executing": true
    }
   }
  },
  {
   "cell_type": "code",
   "execution_count": null,
   "outputs": [],
   "source": [
    "from transformers import pipeline\n",
    "sentiment_analysis = pipeline('sentiment-analysis')"
   ],
   "metadata": {
    "collapsed": false,
    "pycharm": {
     "name": "#%%\n",
     "is_executing": true
    }
   }
  },
  {
   "cell_type": "code",
   "execution_count": 174,
   "outputs": [],
   "source": [
    "for ind , row in avis_df.iterrows():\n",
    "    result = sentiment_analysis(row.avis)\n",
    "    avis_df.at[ind, 'Label'] = result[0][\"label\"]\n",
    "    avis_df.at[ind, 'score'] = result[0][\"score\"]\n"
   ],
   "metadata": {
    "collapsed": false,
    "pycharm": {
     "name": "#%%\n"
    }
   }
  },
  {
   "cell_type": "code",
   "execution_count": 175,
   "outputs": [
    {
     "data": {
      "text/plain": "       Entreprise                                               avis  \\\n0          amazon   What more could you ask for for the price?\\nT...   \n1          amazon   This pc has me a lot more I looked at it for ...   \n2          amazon   Very good PC but it is necessary to plan to c...   \n3          amazon  I did my research on the Lenovo site, and thou...   \n4          amazon  We bought this laptop as a Christmas gift for ...   \n5          amazon  Can't keep strong wifi signal and freezes/cras...   \n6          amazon  Iâ€™ve had this laptop for less than 24 hours ...   \n7          amazon  Just received computer today and was very happ...   \n8          amazon  Good laptop for price. 15 second start up from...   \n9          amazon  it let me partially set up, and then would not...   \n10         amazon   This pc has me a lot more I looked at it for ...   \n11         amazon   A bit noisy in terms of ventilation when gami...   \n12         amazon   Works,,, but 16g of ram is a bit light and th...   \n13         amazon   Very good pc, but big problem of internet con...   \n14         amazon   Made to evacuate heat, it holds well even on ...   \n15         amazon   For the core I5 â€‹â€‹15 inches the keyboard ...   \n16         amazon                                                Top   \n17      cdiscount   Wifi is not available, for a laptop, it's alm...   \n18      cdiscount   Fast, long battery life, no worries I recomme...   \n19      cdiscount   I haven't tried it yet, but already, the chas...   \n20      cdiscount   Battery stuck at 57 percent, heats up a lot, ...   \n21      cdiscount   Everything is perfect, very good ventilation,...   \n22      cdiscount   Very good for playing and \"fix\" mode\\nThe bat...   \n23      cdiscount   For serious gaming without having to pay 2 mi...   \n24      cdiscount            this computer is simply exceptional\\n\\n   \n25      cdiscount   Good laptop: - fast - great 120Hz screen - go...   \n26      cdiscount   A good competition PC, despite an autonomy th...   \n27      cdiscount   Well packaged and arrived at the time expecte...   \n28      cdiscount   Meets all my expectations Everything is perfe...   \n29      cdiscount   Factory configuration problem probably as soo...   \n30      cdiscount   Factory configuration problem probably as soo...   \n31      cdiscount  Official product and at the same price as on A...   \n32  RueDuCommerce   \"Very good laptop! Fast, light, and reasonabl...   \n33  RueDuCommerce                                      \"A beast\"\\n\\n   \n34  RueDuCommerce                                         \"WELL\"\\n\\n   \n35  RueDuCommerce   \"A very good pc has a very good price by bene...   \n36  RueDuCommerce                   \"Low memory capacity damage\"\\n\\n   \n37  RueDuCommerce   \"Very simple and beautiful design, the comput...   \n38  RueDuCommerce   \"Perfect computer. Unpleasant high-pitched no...   \n39  RueDuCommerce   This PC leaves a very mixed opinion! The perf...   \n40  RueDuCommerce               \"The product is great thank you\"\\n\\n   \n41  RueDuCommerce   Powerful computer on the other hand, the nume...   \n42  RueDuCommerce   Only negative point a fourth USB port b or c ...   \n43  RueDuCommerce   Item arrived very well packaged and very well...   \n44  RueDuCommerce  everything is perfect super pc excellent keybo...   \n45  RueDuCommerce  Powerful computer, 6 cores and m2 disk for a f...   \n46  RueDuCommerce                               very good computer\\n   \n47  RueDuCommerce                                      Great I like'   \n\n       Label     score  \n0   POSITIVE  0.971507  \n1   NEGATIVE  0.998509  \n2   NEGATIVE  0.995533  \n3   NEGATIVE  0.999565  \n4   POSITIVE  0.999520  \n5   NEGATIVE  0.999771  \n6   NEGATIVE  0.999754  \n7   NEGATIVE  0.999389  \n8   POSITIVE  0.993330  \n9   NEGATIVE  0.999182  \n10  NEGATIVE  0.998336  \n11  POSITIVE  0.995085  \n12  NEGATIVE  0.999331  \n13  NEGATIVE  0.997805  \n14  POSITIVE  0.999371  \n15  POSITIVE  0.999313  \n16  POSITIVE  0.999707  \n17  NEGATIVE  0.999313  \n18  NEGATIVE  0.869814  \n19  POSITIVE  0.991719  \n20  NEGATIVE  0.999803  \n21  POSITIVE  0.997497  \n22  NEGATIVE  0.997531  \n23  POSITIVE  0.997087  \n24  POSITIVE  0.999875  \n25  POSITIVE  0.999680  \n26  POSITIVE  0.997380  \n27  POSITIVE  0.999784  \n28  POSITIVE  0.999878  \n29  NEGATIVE  0.999679  \n30  NEGATIVE  0.999679  \n31  POSITIVE  0.983112  \n32  POSITIVE  0.999773  \n33  POSITIVE  0.996620  \n34  POSITIVE  0.999760  \n35  POSITIVE  0.998540  \n36  NEGATIVE  0.999790  \n37  POSITIVE  0.999870  \n38  NEGATIVE  0.997411  \n39  NEGATIVE  0.991076  \n40  POSITIVE  0.999881  \n41  NEGATIVE  0.969602  \n42  NEGATIVE  0.998999  \n43  POSITIVE  0.999765  \n44  NEGATIVE  0.698128  \n45  POSITIVE  0.993829  \n46  POSITIVE  0.999860  \n47  POSITIVE  0.999873  ",
      "text/html": "<div>\n<style scoped>\n    .dataframe tbody tr th:only-of-type {\n        vertical-align: middle;\n    }\n\n    .dataframe tbody tr th {\n        vertical-align: top;\n    }\n\n    .dataframe thead th {\n        text-align: right;\n    }\n</style>\n<table border=\"1\" class=\"dataframe\">\n  <thead>\n    <tr style=\"text-align: right;\">\n      <th></th>\n      <th>Entreprise</th>\n      <th>avis</th>\n      <th>Label</th>\n      <th>score</th>\n    </tr>\n  </thead>\n  <tbody>\n    <tr>\n      <th>0</th>\n      <td>amazon</td>\n      <td>What more could you ask for for the price?\\nT...</td>\n      <td>POSITIVE</td>\n      <td>0.971507</td>\n    </tr>\n    <tr>\n      <th>1</th>\n      <td>amazon</td>\n      <td>This pc has me a lot more I looked at it for ...</td>\n      <td>NEGATIVE</td>\n      <td>0.998509</td>\n    </tr>\n    <tr>\n      <th>2</th>\n      <td>amazon</td>\n      <td>Very good PC but it is necessary to plan to c...</td>\n      <td>NEGATIVE</td>\n      <td>0.995533</td>\n    </tr>\n    <tr>\n      <th>3</th>\n      <td>amazon</td>\n      <td>I did my research on the Lenovo site, and thou...</td>\n      <td>NEGATIVE</td>\n      <td>0.999565</td>\n    </tr>\n    <tr>\n      <th>4</th>\n      <td>amazon</td>\n      <td>We bought this laptop as a Christmas gift for ...</td>\n      <td>POSITIVE</td>\n      <td>0.999520</td>\n    </tr>\n    <tr>\n      <th>5</th>\n      <td>amazon</td>\n      <td>Can't keep strong wifi signal and freezes/cras...</td>\n      <td>NEGATIVE</td>\n      <td>0.999771</td>\n    </tr>\n    <tr>\n      <th>6</th>\n      <td>amazon</td>\n      <td>Iâ€™ve had this laptop for less than 24 hours ...</td>\n      <td>NEGATIVE</td>\n      <td>0.999754</td>\n    </tr>\n    <tr>\n      <th>7</th>\n      <td>amazon</td>\n      <td>Just received computer today and was very happ...</td>\n      <td>NEGATIVE</td>\n      <td>0.999389</td>\n    </tr>\n    <tr>\n      <th>8</th>\n      <td>amazon</td>\n      <td>Good laptop for price. 15 second start up from...</td>\n      <td>POSITIVE</td>\n      <td>0.993330</td>\n    </tr>\n    <tr>\n      <th>9</th>\n      <td>amazon</td>\n      <td>it let me partially set up, and then would not...</td>\n      <td>NEGATIVE</td>\n      <td>0.999182</td>\n    </tr>\n    <tr>\n      <th>10</th>\n      <td>amazon</td>\n      <td>This pc has me a lot more I looked at it for ...</td>\n      <td>NEGATIVE</td>\n      <td>0.998336</td>\n    </tr>\n    <tr>\n      <th>11</th>\n      <td>amazon</td>\n      <td>A bit noisy in terms of ventilation when gami...</td>\n      <td>POSITIVE</td>\n      <td>0.995085</td>\n    </tr>\n    <tr>\n      <th>12</th>\n      <td>amazon</td>\n      <td>Works,,, but 16g of ram is a bit light and th...</td>\n      <td>NEGATIVE</td>\n      <td>0.999331</td>\n    </tr>\n    <tr>\n      <th>13</th>\n      <td>amazon</td>\n      <td>Very good pc, but big problem of internet con...</td>\n      <td>NEGATIVE</td>\n      <td>0.997805</td>\n    </tr>\n    <tr>\n      <th>14</th>\n      <td>amazon</td>\n      <td>Made to evacuate heat, it holds well even on ...</td>\n      <td>POSITIVE</td>\n      <td>0.999371</td>\n    </tr>\n    <tr>\n      <th>15</th>\n      <td>amazon</td>\n      <td>For the core I5 â€‹â€‹15 inches the keyboard ...</td>\n      <td>POSITIVE</td>\n      <td>0.999313</td>\n    </tr>\n    <tr>\n      <th>16</th>\n      <td>amazon</td>\n      <td>Top</td>\n      <td>POSITIVE</td>\n      <td>0.999707</td>\n    </tr>\n    <tr>\n      <th>17</th>\n      <td>cdiscount</td>\n      <td>Wifi is not available, for a laptop, it's alm...</td>\n      <td>NEGATIVE</td>\n      <td>0.999313</td>\n    </tr>\n    <tr>\n      <th>18</th>\n      <td>cdiscount</td>\n      <td>Fast, long battery life, no worries I recomme...</td>\n      <td>NEGATIVE</td>\n      <td>0.869814</td>\n    </tr>\n    <tr>\n      <th>19</th>\n      <td>cdiscount</td>\n      <td>I haven't tried it yet, but already, the chas...</td>\n      <td>POSITIVE</td>\n      <td>0.991719</td>\n    </tr>\n    <tr>\n      <th>20</th>\n      <td>cdiscount</td>\n      <td>Battery stuck at 57 percent, heats up a lot, ...</td>\n      <td>NEGATIVE</td>\n      <td>0.999803</td>\n    </tr>\n    <tr>\n      <th>21</th>\n      <td>cdiscount</td>\n      <td>Everything is perfect, very good ventilation,...</td>\n      <td>POSITIVE</td>\n      <td>0.997497</td>\n    </tr>\n    <tr>\n      <th>22</th>\n      <td>cdiscount</td>\n      <td>Very good for playing and \"fix\" mode\\nThe bat...</td>\n      <td>NEGATIVE</td>\n      <td>0.997531</td>\n    </tr>\n    <tr>\n      <th>23</th>\n      <td>cdiscount</td>\n      <td>For serious gaming without having to pay 2 mi...</td>\n      <td>POSITIVE</td>\n      <td>0.997087</td>\n    </tr>\n    <tr>\n      <th>24</th>\n      <td>cdiscount</td>\n      <td>this computer is simply exceptional\\n\\n</td>\n      <td>POSITIVE</td>\n      <td>0.999875</td>\n    </tr>\n    <tr>\n      <th>25</th>\n      <td>cdiscount</td>\n      <td>Good laptop: - fast - great 120Hz screen - go...</td>\n      <td>POSITIVE</td>\n      <td>0.999680</td>\n    </tr>\n    <tr>\n      <th>26</th>\n      <td>cdiscount</td>\n      <td>A good competition PC, despite an autonomy th...</td>\n      <td>POSITIVE</td>\n      <td>0.997380</td>\n    </tr>\n    <tr>\n      <th>27</th>\n      <td>cdiscount</td>\n      <td>Well packaged and arrived at the time expecte...</td>\n      <td>POSITIVE</td>\n      <td>0.999784</td>\n    </tr>\n    <tr>\n      <th>28</th>\n      <td>cdiscount</td>\n      <td>Meets all my expectations Everything is perfe...</td>\n      <td>POSITIVE</td>\n      <td>0.999878</td>\n    </tr>\n    <tr>\n      <th>29</th>\n      <td>cdiscount</td>\n      <td>Factory configuration problem probably as soo...</td>\n      <td>NEGATIVE</td>\n      <td>0.999679</td>\n    </tr>\n    <tr>\n      <th>30</th>\n      <td>cdiscount</td>\n      <td>Factory configuration problem probably as soo...</td>\n      <td>NEGATIVE</td>\n      <td>0.999679</td>\n    </tr>\n    <tr>\n      <th>31</th>\n      <td>cdiscount</td>\n      <td>Official product and at the same price as on A...</td>\n      <td>POSITIVE</td>\n      <td>0.983112</td>\n    </tr>\n    <tr>\n      <th>32</th>\n      <td>RueDuCommerce</td>\n      <td>\"Very good laptop! Fast, light, and reasonabl...</td>\n      <td>POSITIVE</td>\n      <td>0.999773</td>\n    </tr>\n    <tr>\n      <th>33</th>\n      <td>RueDuCommerce</td>\n      <td>\"A beast\"\\n\\n</td>\n      <td>POSITIVE</td>\n      <td>0.996620</td>\n    </tr>\n    <tr>\n      <th>34</th>\n      <td>RueDuCommerce</td>\n      <td>\"WELL\"\\n\\n</td>\n      <td>POSITIVE</td>\n      <td>0.999760</td>\n    </tr>\n    <tr>\n      <th>35</th>\n      <td>RueDuCommerce</td>\n      <td>\"A very good pc has a very good price by bene...</td>\n      <td>POSITIVE</td>\n      <td>0.998540</td>\n    </tr>\n    <tr>\n      <th>36</th>\n      <td>RueDuCommerce</td>\n      <td>\"Low memory capacity damage\"\\n\\n</td>\n      <td>NEGATIVE</td>\n      <td>0.999790</td>\n    </tr>\n    <tr>\n      <th>37</th>\n      <td>RueDuCommerce</td>\n      <td>\"Very simple and beautiful design, the comput...</td>\n      <td>POSITIVE</td>\n      <td>0.999870</td>\n    </tr>\n    <tr>\n      <th>38</th>\n      <td>RueDuCommerce</td>\n      <td>\"Perfect computer. Unpleasant high-pitched no...</td>\n      <td>NEGATIVE</td>\n      <td>0.997411</td>\n    </tr>\n    <tr>\n      <th>39</th>\n      <td>RueDuCommerce</td>\n      <td>This PC leaves a very mixed opinion! The perf...</td>\n      <td>NEGATIVE</td>\n      <td>0.991076</td>\n    </tr>\n    <tr>\n      <th>40</th>\n      <td>RueDuCommerce</td>\n      <td>\"The product is great thank you\"\\n\\n</td>\n      <td>POSITIVE</td>\n      <td>0.999881</td>\n    </tr>\n    <tr>\n      <th>41</th>\n      <td>RueDuCommerce</td>\n      <td>Powerful computer on the other hand, the nume...</td>\n      <td>NEGATIVE</td>\n      <td>0.969602</td>\n    </tr>\n    <tr>\n      <th>42</th>\n      <td>RueDuCommerce</td>\n      <td>Only negative point a fourth USB port b or c ...</td>\n      <td>NEGATIVE</td>\n      <td>0.998999</td>\n    </tr>\n    <tr>\n      <th>43</th>\n      <td>RueDuCommerce</td>\n      <td>Item arrived very well packaged and very well...</td>\n      <td>POSITIVE</td>\n      <td>0.999765</td>\n    </tr>\n    <tr>\n      <th>44</th>\n      <td>RueDuCommerce</td>\n      <td>everything is perfect super pc excellent keybo...</td>\n      <td>NEGATIVE</td>\n      <td>0.698128</td>\n    </tr>\n    <tr>\n      <th>45</th>\n      <td>RueDuCommerce</td>\n      <td>Powerful computer, 6 cores and m2 disk for a f...</td>\n      <td>POSITIVE</td>\n      <td>0.993829</td>\n    </tr>\n    <tr>\n      <th>46</th>\n      <td>RueDuCommerce</td>\n      <td>very good computer\\n</td>\n      <td>POSITIVE</td>\n      <td>0.999860</td>\n    </tr>\n    <tr>\n      <th>47</th>\n      <td>RueDuCommerce</td>\n      <td>Great I like'</td>\n      <td>POSITIVE</td>\n      <td>0.999873</td>\n    </tr>\n  </tbody>\n</table>\n</div>"
     },
     "execution_count": 175,
     "metadata": {},
     "output_type": "execute_result"
    }
   ],
   "source": [
    "avis_df"
   ],
   "metadata": {
    "collapsed": false,
    "pycharm": {
     "name": "#%%\n"
    }
   }
  },
  {
   "cell_type": "code",
   "execution_count": 176,
   "outputs": [],
   "source": [
    "import seaborn as sns\n",
    "import matplotlib.pyplot as plt"
   ],
   "metadata": {
    "collapsed": false,
    "pycharm": {
     "name": "#%%\n"
    }
   }
  },
  {
   "cell_type": "code",
   "execution_count": 256,
   "outputs": [],
   "source": [
    "grp = pd.pivot_table(avis_df, index=[\"Entreprise\"], columns=[\"Label\"], aggfunc='count')['avis']"
   ],
   "metadata": {
    "collapsed": false,
    "pycharm": {
     "name": "#%%\n"
    }
   }
  },
  {
   "cell_type": "code",
   "execution_count": 258,
   "outputs": [],
   "source": [
    "for ind , row in grp.iterrows():\n",
    "    grp.at[ind, \"NEGATIVE\"] = row.NEGATIVE / row.sum()\n",
    "    grp.at[ind, \"POSITIVE\"] = row.POSITIVE / row.sum()"
   ],
   "metadata": {
    "collapsed": false,
    "pycharm": {
     "name": "#%%\n"
    }
   }
  },
  {
   "cell_type": "code",
   "execution_count": 266,
   "outputs": [
    {
     "data": {
      "text/plain": "<AxesSubplot:ylabel='Entreprise'>"
     },
     "execution_count": 266,
     "metadata": {},
     "output_type": "execute_result"
    },
    {
     "data": {
      "text/plain": "<Figure size 648x360 with 1 Axes>",
      "image/png": "[encoded data removed]"
     },
     "metadata": {
      "needs_background": "light"
     },
     "output_type": "display_data"
    }
   ],
   "source": [
    "grp.plot.barh(figsize=(9,5))"
   ],
   "metadata": {
    "collapsed": false,
    "pycharm": {
     "name": "#%%\n"
    }
   }
  },
  {
   "cell_type": "code",
   "execution_count": null,
   "outputs": [],
   "source": [],
   "metadata": {
    "collapsed": false,
    "pycharm": {
     "name": "#%%\n"
    }
   }
  }
 ],
 "metadata": {
  "kernelspec": {
   "display_name": "Python 3",
   "language": "python",
   "name": "python3"
  },
  "language_info": {
   "codemirror_mode": {
    "name": "ipython",
    "version": 2
   },
   "file_extension": ".py",
   "mimetype": "text/x-python",
   "name": "python",
   "nbconvert_exporter": "python",
   "pygments_lexer": "ipython2",
   "version": "2.7.6"
  }
 },
 "nbformat": 4,
 "nbformat_minor": 0
}